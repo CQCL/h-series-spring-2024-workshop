{
 "cells": [
  {
   "cell_type": "markdown",
   "id": "a1d2f2e3",
   "metadata": {},
   "source": [
    "<div style=\"text-align: center;\"><br>\n",
    "<img src=\"https://assets-global.website-files.com/62b9d45fb3f64842a96c9686/62d84db4aeb2f6552f3a2f78_Quantinuum%20Logo__horizontal%20blue.svg\" width=\"200\" height=\"200\" /></div>"
   ]
  },
  {
   "cell_type": "markdown",
   "id": "dbb0468c-e8ea-441c-951a-fc4a89844be7",
   "metadata": {
    "slideshow": {
     "slide_type": "slide"
    }
   },
   "source": [
    "## Constructing Circuits \n",
    "\n",
    "In this section we will explore building quantum circuits in pytket with the `Circuit` class and introduce some useful circuit primitives.\n",
    "\n",
    "At the end, we'll briefly cover some circuit optimisation"
   ]
  },
  {
   "cell_type": "markdown",
   "id": "34148036-7573-4852-bae3-d4abed36d700",
   "metadata": {
    "slideshow": {
     "slide_type": "subslide"
    }
   },
   "source": [
    "### Basic Bell circuit\n",
    "\n",
    "In pytket we can create an instance of the `Circuit` class and add gates sequentially. We can prepare an entangled Bell state using a Hadamard and a CX gate\n",
    "\n",
    "$$\n",
    "\\begin{equation}\n",
    "\\text{H} = \\frac{1}{\\sqrt{2}}\n",
    "\\begin{pmatrix}\n",
    "1 & 1 \\\\\n",
    "1 & -1\n",
    "\\end{pmatrix}\\,, \n",
    "\\quad\n",
    "CX=\n",
    "\\begin{pmatrix}\n",
    "1 & 0 & 0 & 0 \\\\\n",
    "0 & 1 & 0 & 0 \\\\\n",
    "0 & 0 & 0 & 1 \\\\\n",
    "0 & 0 & 1 & 0\n",
    "\\end{pmatrix}\n",
    "\\end{equation}\n",
    "$$"
   ]
  },
  {
   "cell_type": "code",
   "execution_count": 1,
   "id": "c4edf7e0-1786-4b9e-b1d5-9e44db6e34c8",
   "metadata": {},
   "outputs": [
    {
     "data": {
      "text/html": [
       "\n",
       "\n",
       "\n",
       "\n",
       "\n",
       "\n",
       "<div style=\"resize: vertical; overflow: auto; height: 400px; display: block\">\n",
       "    <iframe srcdoc=\"\n",
       "&lt;!DOCTYPE html&gt;\n",
       "&lt;html lang=&#34;en&#34;&gt;\n",
       "&lt;head&gt;\n",
       "    &lt;meta charset=&#34;UTF-8&#34;&gt;\n",
       "    &lt;!-- Download Vue 3--&gt;\n",
       "&lt;script type=&#34;application/javascript&#34; src=&#34;https://cdn.jsdelivr.net/npm/vue@3&#34;&gt;&lt;/script&gt;\n",
       "&lt;!-- Download Circuit Renderer with styles --&gt;\n",
       "&lt;script type=&#34;application/javascript&#34; src=&#34;https://unpkg.com/pytket-circuit-renderer@0.7/dist/pytket-circuit-renderer.umd.js&#34;&gt;&lt;/script&gt;\n",
       "&lt;link rel=&#34;stylesheet&#34; href=&#34;https://unpkg.com/pytket-circuit-renderer@0.7/dist/pytket-circuit-renderer.css&#34;&gt;\n",
       "&lt;/head&gt;\n",
       "&lt;body&gt;\n",
       "\n",
       "\n",
       "\n",
       "    &lt;div id=&#34;circuit-display-vue-container-dddebeec-7b30-4aa2-a04e-ac8f463e8c7a&#34; class=&#34;pytket-circuit-display-container&#34;&gt;\n",
       "        &lt;div style=&#34;display: none&#34;&gt;\n",
       "            &lt;div id=&#34;circuit-json-to-display&#34;&gt;{&#34;bits&#34;: [], &#34;commands&#34;: [{&#34;args&#34;: [[&#34;q&#34;, [0]]], &#34;op&#34;: {&#34;type&#34;: &#34;H&#34;}}], &#34;created_qubits&#34;: [], &#34;discarded_qubits&#34;: [], &#34;implicit_permutation&#34;: [[[&#34;q&#34;, [0]], [&#34;q&#34;, [0]]]], &#34;phase&#34;: &#34;0.0&#34;, &#34;qubits&#34;: [[&#34;q&#34;, [0]]]}&lt;/div&gt;\n",
       "        &lt;/div&gt;\n",
       "        &lt;circuit-display-container\n",
       "                :circuit-element-str=&#34;&#39;#circuit-json-to-display&#39;&#34;\n",
       "                :init-render-options=&#34;initRenderOptions&#34;\n",
       "        &gt;&lt;/circuit-display-container&gt;\n",
       "    &lt;/div&gt;\n",
       "    &lt;script type=&#34;application/javascript&#34;&gt;\n",
       "      const circuitRendererUid = &#34;dddebeec-7b30-4aa2-a04e-ac8f463e8c7a&#34;;\n",
       "      const displayOptions = JSON.parse(&#39;{}&#39;);\n",
       "\n",
       "      // Script to initialise the circuit renderer app\n",
       "\n",
       "const { createApp } = Vue;\n",
       "const circuitDisplayContainer = window[&#34;pytket-circuit-renderer&#34;].default;\n",
       "// Init variables to be shared between circuit display instances\n",
       "if (typeof window.pytketCircuitDisplays === &#34;undefined&#34;) {\n",
       "    window.pytketCircuitDisplays = {};\n",
       "}\n",
       "// Create the root Vue component\n",
       "const app = createApp({\n",
       "    delimiters: [&#39;[[#&#39;, &#39;#]]&#39;],\n",
       "    components: { circuitDisplayContainer },\n",
       "    data () {\n",
       "      return {\n",
       "        initRenderOptions: displayOptions,\n",
       "      }\n",
       "    }\n",
       "})\n",
       "app.config.unwrapInjectedRef = true;\n",
       "app.mount(&#34;#circuit-display-vue-container-&#34;+circuitRendererUid);\n",
       "window.pytketCircuitDisplays[circuitRendererUid] = app;\n",
       "    &lt;/script&gt;\n",
       "\n",
       "\n",
       "\n",
       "&lt;/body&gt;\n",
       "&lt;/html&gt;\n",
       "\"\n",
       "            width=\"100%\" height=\"100%\"\n",
       "            style=\"border: none; outline: none; overflow: auto\"></iframe>\n",
       "</div>\n",
       "\n"
      ],
      "text/plain": [
       "<IPython.core.display.HTML object>"
      ]
     },
     "metadata": {},
     "output_type": "display_data"
    }
   ],
   "source": [
    "from pytket import Circuit\n",
    "from pytket.circuit.display import render_circuit_jupyter as draw\n",
    "\n",
    "h_circ = Circuit(1)\n",
    "\n",
    "h_circ.H(0)\n",
    "draw(h_circ)"
   ]
  },
  {
   "cell_type": "code",
   "execution_count": 2,
   "id": "2e221755-7334-476b-86c9-9b10272c2f68",
   "metadata": {},
   "outputs": [
    {
     "data": {
      "text/plain": [
       "array([[ 0.707+0.j,  0.707+0.j],\n",
       "       [ 0.707+0.j, -0.707+0.j]])"
      ]
     },
     "execution_count": 2,
     "metadata": {},
     "output_type": "execute_result"
    }
   ],
   "source": [
    "h_circ.get_unitary().round(3)"
   ]
  },
  {
   "cell_type": "code",
   "execution_count": 3,
   "id": "c72a197e-3ec5-431a-8568-15077be35192",
   "metadata": {
    "slideshow": {
     "slide_type": "fragment"
    },
    "tags": []
   },
   "outputs": [
    {
     "data": {
      "text/html": [
       "\n",
       "\n",
       "\n",
       "\n",
       "\n",
       "\n",
       "<div style=\"resize: vertical; overflow: auto; height: 400px; display: block\">\n",
       "    <iframe srcdoc=\"\n",
       "&lt;!DOCTYPE html&gt;\n",
       "&lt;html lang=&#34;en&#34;&gt;\n",
       "&lt;head&gt;\n",
       "    &lt;meta charset=&#34;UTF-8&#34;&gt;\n",
       "    &lt;!-- Download Vue 3--&gt;\n",
       "&lt;script type=&#34;application/javascript&#34; src=&#34;https://cdn.jsdelivr.net/npm/vue@3&#34;&gt;&lt;/script&gt;\n",
       "&lt;!-- Download Circuit Renderer with styles --&gt;\n",
       "&lt;script type=&#34;application/javascript&#34; src=&#34;https://unpkg.com/pytket-circuit-renderer@0.7/dist/pytket-circuit-renderer.umd.js&#34;&gt;&lt;/script&gt;\n",
       "&lt;link rel=&#34;stylesheet&#34; href=&#34;https://unpkg.com/pytket-circuit-renderer@0.7/dist/pytket-circuit-renderer.css&#34;&gt;\n",
       "&lt;/head&gt;\n",
       "&lt;body&gt;\n",
       "\n",
       "\n",
       "\n",
       "    &lt;div id=&#34;circuit-display-vue-container-585e1cc5-9964-4e2d-960b-cdc81c76913b&#34; class=&#34;pytket-circuit-display-container&#34;&gt;\n",
       "        &lt;div style=&#34;display: none&#34;&gt;\n",
       "            &lt;div id=&#34;circuit-json-to-display&#34;&gt;{&#34;bits&#34;: [], &#34;commands&#34;: [{&#34;args&#34;: [[&#34;q&#34;, [0]]], &#34;op&#34;: {&#34;type&#34;: &#34;H&#34;}}, {&#34;args&#34;: [[&#34;q&#34;, [0]], [&#34;q&#34;, [1]]], &#34;op&#34;: {&#34;type&#34;: &#34;CX&#34;}}], &#34;created_qubits&#34;: [], &#34;discarded_qubits&#34;: [], &#34;implicit_permutation&#34;: [[[&#34;q&#34;, [0]], [&#34;q&#34;, [0]]], [[&#34;q&#34;, [1]], [&#34;q&#34;, [1]]]], &#34;name&#34;: &#34;Bell&#34;, &#34;phase&#34;: &#34;0.0&#34;, &#34;qubits&#34;: [[&#34;q&#34;, [0]], [&#34;q&#34;, [1]]]}&lt;/div&gt;\n",
       "        &lt;/div&gt;\n",
       "        &lt;circuit-display-container\n",
       "                :circuit-element-str=&#34;&#39;#circuit-json-to-display&#39;&#34;\n",
       "                :init-render-options=&#34;initRenderOptions&#34;\n",
       "        &gt;&lt;/circuit-display-container&gt;\n",
       "    &lt;/div&gt;\n",
       "    &lt;script type=&#34;application/javascript&#34;&gt;\n",
       "      const circuitRendererUid = &#34;585e1cc5-9964-4e2d-960b-cdc81c76913b&#34;;\n",
       "      const displayOptions = JSON.parse(&#39;{}&#39;);\n",
       "\n",
       "      // Script to initialise the circuit renderer app\n",
       "\n",
       "const { createApp } = Vue;\n",
       "const circuitDisplayContainer = window[&#34;pytket-circuit-renderer&#34;].default;\n",
       "// Init variables to be shared between circuit display instances\n",
       "if (typeof window.pytketCircuitDisplays === &#34;undefined&#34;) {\n",
       "    window.pytketCircuitDisplays = {};\n",
       "}\n",
       "// Create the root Vue component\n",
       "const app = createApp({\n",
       "    delimiters: [&#39;[[#&#39;, &#39;#]]&#39;],\n",
       "    components: { circuitDisplayContainer },\n",
       "    data () {\n",
       "      return {\n",
       "        initRenderOptions: displayOptions,\n",
       "      }\n",
       "    }\n",
       "})\n",
       "app.config.unwrapInjectedRef = true;\n",
       "app.mount(&#34;#circuit-display-vue-container-&#34;+circuitRendererUid);\n",
       "window.pytketCircuitDisplays[circuitRendererUid] = app;\n",
       "    &lt;/script&gt;\n",
       "\n",
       "\n",
       "\n",
       "&lt;/body&gt;\n",
       "&lt;/html&gt;\n",
       "\"\n",
       "            width=\"100%\" height=\"100%\"\n",
       "            style=\"border: none; outline: none; overflow: auto\"></iframe>\n",
       "</div>\n",
       "\n"
      ],
      "text/plain": [
       "<IPython.core.display.HTML object>"
      ]
     },
     "metadata": {},
     "output_type": "display_data"
    }
   ],
   "source": [
    "bell_circ = Circuit(2, name=\"Bell\")\n",
    "bell_circ.H(0)\n",
    "bell_circ.CX(0, 1)\n",
    "draw(bell_circ)"
   ]
  },
  {
   "cell_type": "code",
   "execution_count": 4,
   "id": "fb9bf6f9-1d13-43d1-9368-f19c870270ad",
   "metadata": {
    "slideshow": {
     "slide_type": "subslide"
    },
    "tags": []
   },
   "outputs": [
    {
     "data": {
      "text/plain": [
       "array([0.70710678+0.j, 0.        +0.j, 0.        +0.j, 0.70710678+0.j])"
      ]
     },
     "execution_count": 4,
     "metadata": {},
     "output_type": "execute_result"
    }
   ],
   "source": [
    "bell_circ.get_statevector()"
   ]
  },
  {
   "cell_type": "markdown",
   "id": "7dd43ce6-6019-4406-822e-36ea7b34a1cf",
   "metadata": {},
   "source": [
    "Compare with the equation below...\n",
    "\n",
    "\n",
    "$$\n",
    "\\begin{equation}\n",
    "|\\psi \\rangle = \\frac{1}{\\sqrt{2}} \\big(|00 \\rangle + | 11 \\rangle  \\big)\\,, \\qquad \\frac{1}{\\sqrt{2}} \\approx 0.707...\n",
    "\\end{equation}\n",
    "$$"
   ]
  },
  {
   "cell_type": "code",
   "execution_count": 5,
   "id": "157c637e-dd28-4d0c-b7f7-37bd92148dcd",
   "metadata": {
    "slideshow": {
     "slide_type": "subslide"
    },
    "tags": []
   },
   "outputs": [
    {
     "data": {
      "text/html": [
       "\n",
       "\n",
       "\n",
       "\n",
       "\n",
       "\n",
       "<div style=\"resize: vertical; overflow: auto; height: 400px; display: block\">\n",
       "    <iframe srcdoc=\"\n",
       "&lt;!DOCTYPE html&gt;\n",
       "&lt;html lang=&#34;en&#34;&gt;\n",
       "&lt;head&gt;\n",
       "    &lt;meta charset=&#34;UTF-8&#34;&gt;\n",
       "    &lt;!-- Download Vue 3--&gt;\n",
       "&lt;script type=&#34;application/javascript&#34; src=&#34;https://cdn.jsdelivr.net/npm/vue@3&#34;&gt;&lt;/script&gt;\n",
       "&lt;!-- Download Circuit Renderer with styles --&gt;\n",
       "&lt;script type=&#34;application/javascript&#34; src=&#34;https://unpkg.com/pytket-circuit-renderer@0.7/dist/pytket-circuit-renderer.umd.js&#34;&gt;&lt;/script&gt;\n",
       "&lt;link rel=&#34;stylesheet&#34; href=&#34;https://unpkg.com/pytket-circuit-renderer@0.7/dist/pytket-circuit-renderer.css&#34;&gt;\n",
       "&lt;/head&gt;\n",
       "&lt;body&gt;\n",
       "\n",
       "\n",
       "\n",
       "    &lt;div id=&#34;circuit-display-vue-container-4493f3f1-82cb-49a4-b8a1-1fbffbd0cf26&#34; class=&#34;pytket-circuit-display-container&#34;&gt;\n",
       "        &lt;div style=&#34;display: none&#34;&gt;\n",
       "            &lt;div id=&#34;circuit-json-to-display&#34;&gt;{&#34;bits&#34;: [[&#34;c&#34;, [0]], [&#34;c&#34;, [1]]], &#34;commands&#34;: [{&#34;args&#34;: [[&#34;q&#34;, [0]]], &#34;op&#34;: {&#34;type&#34;: &#34;H&#34;}}, {&#34;args&#34;: [[&#34;q&#34;, [0]], [&#34;q&#34;, [1]]], &#34;op&#34;: {&#34;type&#34;: &#34;CX&#34;}}, {&#34;args&#34;: [[&#34;q&#34;, [0]], [&#34;c&#34;, [0]]], &#34;op&#34;: {&#34;type&#34;: &#34;Measure&#34;}}, {&#34;args&#34;: [[&#34;q&#34;, [1]], [&#34;c&#34;, [1]]], &#34;op&#34;: {&#34;type&#34;: &#34;Measure&#34;}}], &#34;created_qubits&#34;: [], &#34;discarded_qubits&#34;: [], &#34;implicit_permutation&#34;: [[[&#34;q&#34;, [0]], [&#34;q&#34;, [0]]], [[&#34;q&#34;, [1]], [&#34;q&#34;, [1]]]], &#34;name&#34;: &#34;Bell&#34;, &#34;phase&#34;: &#34;0.0&#34;, &#34;qubits&#34;: [[&#34;q&#34;, [0]], [&#34;q&#34;, [1]]]}&lt;/div&gt;\n",
       "        &lt;/div&gt;\n",
       "        &lt;circuit-display-container\n",
       "                :circuit-element-str=&#34;&#39;#circuit-json-to-display&#39;&#34;\n",
       "                :init-render-options=&#34;initRenderOptions&#34;\n",
       "        &gt;&lt;/circuit-display-container&gt;\n",
       "    &lt;/div&gt;\n",
       "    &lt;script type=&#34;application/javascript&#34;&gt;\n",
       "      const circuitRendererUid = &#34;4493f3f1-82cb-49a4-b8a1-1fbffbd0cf26&#34;;\n",
       "      const displayOptions = JSON.parse(&#39;{}&#39;);\n",
       "\n",
       "      // Script to initialise the circuit renderer app\n",
       "\n",
       "const { createApp } = Vue;\n",
       "const circuitDisplayContainer = window[&#34;pytket-circuit-renderer&#34;].default;\n",
       "// Init variables to be shared between circuit display instances\n",
       "if (typeof window.pytketCircuitDisplays === &#34;undefined&#34;) {\n",
       "    window.pytketCircuitDisplays = {};\n",
       "}\n",
       "// Create the root Vue component\n",
       "const app = createApp({\n",
       "    delimiters: [&#39;[[#&#39;, &#39;#]]&#39;],\n",
       "    components: { circuitDisplayContainer },\n",
       "    data () {\n",
       "      return {\n",
       "        initRenderOptions: displayOptions,\n",
       "      }\n",
       "    }\n",
       "})\n",
       "app.config.unwrapInjectedRef = true;\n",
       "app.mount(&#34;#circuit-display-vue-container-&#34;+circuitRendererUid);\n",
       "window.pytketCircuitDisplays[circuitRendererUid] = app;\n",
       "    &lt;/script&gt;\n",
       "\n",
       "\n",
       "\n",
       "&lt;/body&gt;\n",
       "&lt;/html&gt;\n",
       "\"\n",
       "            width=\"100%\" height=\"100%\"\n",
       "            style=\"border: none; outline: none; overflow: auto\"></iframe>\n",
       "</div>\n",
       "\n"
      ],
      "text/plain": [
       "<IPython.core.display.HTML object>"
      ]
     },
     "metadata": {},
     "output_type": "display_data"
    }
   ],
   "source": [
    "bell_circ.measure_all()\n",
    "draw(bell_circ)"
   ]
  },
  {
   "cell_type": "code",
   "execution_count": 6,
   "id": "1a33999c-7ffd-43b0-af29-39334fdb815b",
   "metadata": {
    "slideshow": {
     "slide_type": "subslide"
    },
    "tags": []
   },
   "outputs": [
    {
     "name": "stdout",
     "output_type": "stream",
     "text": [
      "\n",
      "New project created: basic simulation\n",
      "\n",
      "Started using project with name: basic simulation\n",
      "Counter({(0, 0): 505, (1, 1): 495})\n"
     ]
    }
   ],
   "source": [
    "from pytket.extensions.nexus import AerConfig, NexusBackend, Nexus\n",
    "from pytket.extensions.nexus.visualisation import plot_results_histogram\n",
    "\n",
    "nexus = Nexus()\n",
    "\n",
    "nexus.new_project(\"basic_simulation_japan\")\n",
    "\n",
    "aer_backend = NexusBackend(AerConfig(), project_name=\"basic_simulation_japan\")\n",
    "result = aer_backend.run_circuit(bell_circ, n_shots=1000)\n",
    "print(result.get_counts())"
   ]
  },
  {
   "cell_type": "code",
   "execution_count": 8,
   "id": "9e5ba399-dad9-47e4-9774-33470eec40b5",
   "metadata": {},
   "outputs": [
    {
     "data": {
      "image/png": "[encoded data removed]",
      "text/plain": [
       "<Figure size 1000x700 with 1 Axes>"
      ]
     },
     "execution_count": 8,
     "metadata": {},
     "output_type": "execute_result"
    }
   ],
   "source": [
    "plot_results_histogram([result])"
   ]
  },
  {
   "cell_type": "markdown",
   "id": "840cf3f5-33f1-4fc7-8762-b55eed2165d4",
   "metadata": {},
   "source": [
    "Some pytket gates are only available through the `OpType` enum.\n",
    "\n",
    "For an exhasutive list of all pytket operations, see the docs -> https://tket.quantinuum.com/api-docs/optype.html"
   ]
  },
  {
   "cell_type": "code",
   "execution_count": null,
   "id": "c3d1579b-b9de-4b61-8b97-d93a25bd4930",
   "metadata": {},
   "outputs": [],
   "source": [
    "from pytket import OpType\n",
    "\n",
    "circ = Circuit(3)\n",
    "\n",
    "circ.add_gate(OpType.CnZ, [0, 1, 2])\n",
    "draw(circ)"
   ]
  },
  {
   "cell_type": "code",
   "execution_count": null,
   "id": "4dee4fb8-f76e-4cbb-89c0-3676767df612",
   "metadata": {},
   "outputs": [],
   "source": [
    "circ.get_unitary().shape"
   ]
  },
  {
   "cell_type": "code",
   "execution_count": null,
   "id": "a0cbdd12-2c35-4e8f-b4e8-5aeef1bb1853",
   "metadata": {},
   "outputs": [],
   "source": [
    "circ.get_unitary()"
   ]
  },
  {
   "cell_type": "code",
   "execution_count": null,
   "id": "3d1ea66f-75f7-4744-b643-ee0640911fac",
   "metadata": {},
   "outputs": [],
   "source": [
    "circ.get_unitary().diagonal()"
   ]
  },
  {
   "cell_type": "markdown",
   "id": "85458b14-b947-4b25-b9a4-9e93c04dbfad",
   "metadata": {},
   "source": [
    "## Symbolic Circuits\n",
    "\n"
   ]
  },
  {
   "cell_type": "code",
   "execution_count": null,
   "id": "3b07254e-504f-489f-8b8b-54309b31eae7",
   "metadata": {},
   "outputs": [],
   "source": [
    "from sympy import symbols\n",
    "\n",
    "a, b, c = symbols(\"a b c\")\n",
    "\n",
    "symb_circ = Circuit(1).Rz(a, 0).Rx(b, 0).Rz(c, 0)\n",
    "draw(symb_circ)"
   ]
  },
  {
   "cell_type": "code",
   "execution_count": null,
   "id": "7d7cb6ff-ef14-4e39-bbe2-1b7344e26d0c",
   "metadata": {},
   "outputs": [],
   "source": [
    "from pytket.utils.symbolic import circuit_to_symbolic_unitary\n",
    "\n",
    "circuit_to_symbolic_unitary(symb_circ)"
   ]
  },
  {
   "cell_type": "markdown",
   "id": "d1c5bedb-c577-42f8-800d-28bfc76cb721",
   "metadata": {
    "slideshow": {
     "slide_type": "subslide"
    }
   },
   "source": [
    "### Constructing a Circuit from QASM\n",
    "\n",
    "* OpenQASM 2.0 (Open Quantum assembly language provides a low level specification of quantum circuits)\n",
    "* We Can easily build a circuit from a QASM file (And also export a circuit to QASM)"
   ]
  },
  {
   "cell_type": "code",
   "execution_count": null,
   "id": "c9011274-556b-468f-a2d1-305934c38672",
   "metadata": {},
   "outputs": [],
   "source": [
    "from pytket.qasm import circuit_from_qasm\n",
    "\n",
    "w_state_circ = circuit_from_qasm(\"qasm/W-state.qasm\")\n",
    "draw(w_state_circ)"
   ]
  },
  {
   "cell_type": "markdown",
   "id": "4cdc67ff-f34b-4860-9832-46e53e64e6a4",
   "metadata": {},
   "source": [
    "### Import a circuit from Qiskit (or other SDKs)\n",
    "\n",
    "Its possible to generate a circuit directly from a Qiskit `QuantumCircuit` using the [qiskit_to_tk](https://tket.quantinuum.com/extensions/pytket-qiskit/api.html#pytket.extensions.qiskit.tk_to_qiskit) function.\n",
    "\n",
    "To run this in your local environment, run `pip install pytket-qiskit`. \n",
    "\n",
    "To see all extensions pytket supports, visit: https://tket.quantinuum.com/api-docs/extensions#pytket-extensions. "
   ]
  },
  {
   "cell_type": "code",
   "execution_count": null,
   "id": "8fd08c10-39f1-4b35-803f-2c378367ce89",
   "metadata": {},
   "outputs": [],
   "source": [
    "from qiskit import QuantumCircuit\n",
    "\n",
    "qiskit_circ = QuantumCircuit(3)\n",
    "qiskit_circ.h(range(3))\n",
    "qiskit_circ.ccx(2, 1 ,0)\n",
    "qiskit_circ.cx(0, 1)\n",
    "print(qiskit_circ)"
   ]
  },
  {
   "cell_type": "code",
   "execution_count": null,
   "id": "7f6091d4-3a21-45ce-a660-226c31186a64",
   "metadata": {},
   "outputs": [],
   "source": [
    "from pytket.extensions.qiskit import qiskit_to_tk\n",
    "\n",
    "tket_circ = qiskit_to_tk(qiskit_circ)\n",
    "\n",
    "draw(tket_circ)"
   ]
  },
  {
   "cell_type": "markdown",
   "id": "86cf1008-d51a-43a5-bad7-7a82f701bad2",
   "metadata": {},
   "source": [
    "## A more interesting Circuit - The Quantum Fourier Transform\n",
    "\n",
    "Lets build a `Circuit` to implement the Quantum Fourier Transform. This an important subroutine in many quantum algorithms including factoring and fault tolerant approaches to quantum chemistry.\n",
    "\n",
    "Mathematically, the $QFT$ has the following action.\n",
    "\n",
    "$$\n",
    "\\begin{equation}\n",
    "QFT : |j\\rangle\\ \\longmapsto \\frac{1}{\\sqrt{N}} \\sum_{k=0}^{N - 1} e^{2 \\pi ijk/N}|k\\rangle, \\quad N= 2^n\n",
    "\\end{equation}\n",
    "$$\n",
    "\n",
    "This is essentially the Discrete Fourier transform except the input is a quantum state $|j\\rangle$.\n",
    "\n",
    "We can build the circuit for the $n$ qubit $QFT$ using $n$ Hadamard gates $\\lfloor{\\frac{n}{2}}\\rfloor$ swap gates and $\\frac{n(n-1)}{2}$ controlled unitary rotations $\\text{CU1}$.\n",
    "\n",
    "$$\n",
    " \\begin{equation}\n",
    "U1(\\phi) =\n",
    " \\begin{pmatrix}\n",
    " 1 & 0 \\\\\n",
    " 0 & e^{i \\pi \\phi}\n",
    " \\end{pmatrix}\\, , \\quad\n",
    " CU1(\\phi) =\n",
    " \\begin{pmatrix}\n",
    " 1 & 0 & 0 & 0 \\\\\n",
    " 0 & 1 & 0 & 0 \\\\\n",
    " 0 & 0 & 1 & 0 \\\\\n",
    " 0 & 0 & 0 & e^{i \\pi \\phi}\n",
    " \\end{pmatrix}\n",
    " \\end{equation}\n",
    "$$\n",
    "\n",
    "The circuit for the Quantum Fourier transform on three qubits is the following\n",
    "\n",
    "![](images/qft_dark.png)\n",
    "\n",
    "\n",
    "We can build this circuit in `pytket` by adding gate operations manually:"
   ]
  },
  {
   "cell_type": "code",
   "execution_count": null,
   "id": "22afdfdc-a42d-49ff-adeb-4b901d821091",
   "metadata": {
    "slideshow": {
     "slide_type": "fragment"
    },
    "tags": []
   },
   "outputs": [],
   "source": [
    "qft3_circ = Circuit(3, name=\"QFT\")\n",
    "qft3_circ.H(0)\n",
    "qft3_circ.CU1(0.5, 1, 0)\n",
    "qft3_circ.CU1(0.25, 2, 0)\n",
    "qft3_circ.H(1)\n",
    "qft3_circ.CU1(0.5, 2, 1)\n",
    "qft3_circ.H(2)\n",
    "qft3_circ.SWAP(0, 2)\n",
    "draw(qft3_circ)"
   ]
  },
  {
   "cell_type": "markdown",
   "id": "f62971ae-d80f-4858-8377-ee673135a30d",
   "metadata": {},
   "source": [
    "## Boxes in pytket"
   ]
  },
  {
   "cell_type": "code",
   "execution_count": null,
   "id": "6e30dddd-b53b-4459-b51f-16a0854558a6",
   "metadata": {},
   "outputs": [],
   "source": [
    "from pytket.circuit import CircBox\n",
    "\n",
    "\n",
    "qft3_box = CircBox(qft3_circ)"
   ]
  },
  {
   "cell_type": "code",
   "execution_count": null,
   "id": "3eb58b88-64ac-4fd5-9fd0-9cbb31c5c0b6",
   "metadata": {},
   "outputs": [],
   "source": [
    "circ = Circuit(3)\n",
    "circ.X(0).X(1).X(2)\n",
    "circ.add_gate(qft3_box, [0, 1, 2])\n",
    "\n",
    "draw(circ)"
   ]
  },
  {
   "cell_type": "markdown",
   "id": "07c0c347-efec-4cde-ab9d-f5c7017c1828",
   "metadata": {},
   "source": [
    "We can build the $QFT$ for $n$ qubits as follows..."
   ]
  },
  {
   "cell_type": "code",
   "execution_count": null,
   "id": "a8f9e387-e7f2-440d-ab13-506ff34aa3a3",
   "metadata": {},
   "outputs": [],
   "source": [
    "def build_qft_circuit(n_qubits: int) -> Circuit:\n",
    "    circ = Circuit(n_qubits, name=\"QFT\")\n",
    "    for i in range(n_qubits):\n",
    "        circ.H(i)\n",
    "        for j in range(i + 1, n_qubits):\n",
    "            circ.CU1(1 / 2 ** (j - i), j, i)\n",
    "    for k in range(0, n_qubits // 2):\n",
    "        circ.SWAP(k, n_qubits - k - 1)\n",
    "    return circ"
   ]
  },
  {
   "cell_type": "code",
   "execution_count": null,
   "id": "ba1b5fc9-5451-41a8-b31c-c187a0c00ef7",
   "metadata": {},
   "outputs": [],
   "source": [
    "draw(build_qft_circuit(4))"
   ]
  },
  {
   "cell_type": "markdown",
   "id": "ffc7b378-a435-48f5-a32d-b1a5b54dd52e",
   "metadata": {
    "slideshow": {
     "slide_type": "subslide"
    }
   },
   "source": [
    "### Circuit Boxes (II)\n",
    "\n",
    "* Often we will need synthesise a quantum circuit to implement a given unitary\n",
    "* Unitary synthesis is supported by TKET (Up to 3 qubits)\n",
    "* **Fact:** A two-qubit unitary can be implemented with at most 3 CX gates (KAK decomposition)\n",
    "\n"
   ]
  },
  {
   "cell_type": "code",
   "execution_count": null,
   "id": "dd5aff35-f523-448f-9224-48789a3fad98",
   "metadata": {},
   "outputs": [],
   "source": [
    "from pytket.circuit import Unitary2qBox\n",
    "from scipy.stats import unitary_group\n",
    "\n",
    "random_su4_unitary = unitary_group.rvs(4)\n",
    "\n",
    "u2_box = Unitary2qBox(random_su4_unitary)\n",
    "\n",
    "test_circ = Circuit(2)\n",
    "test_circ.add_unitary2qbox(u2_box, 0, 1)\n",
    "\n",
    "draw(test_circ)"
   ]
  },
  {
   "cell_type": "code",
   "execution_count": null,
   "id": "a40634af-5b21-4711-8c80-43a6a72fb442",
   "metadata": {
    "slideshow": {
     "slide_type": "subslide"
    },
    "tags": []
   },
   "outputs": [],
   "source": [
    "from pytket.passes import DecomposeBoxes\n",
    "\n",
    "DecomposeBoxes().apply(test_circ)  # Decompose the box in place\n",
    "\n",
    "draw(test_circ)  # view raw circuit "
   ]
  },
  {
   "cell_type": "markdown",
   "id": "e2930012-f427-4120-a6c5-13583f04c260",
   "metadata": {},
   "source": [
    "## Useful circuit primitives\n",
    "\n",
    "Here are a list of circuit subroutines that you might find useful when building circuits\n",
    "\n",
    "* [CircBox](https://tket.quantinuum.com/api-docs/circuit.html#pytket.circuit.CircBox) - Allows you define higher level subroutines using a `Circuit` which can then be reused in complex circuits and algorithms.\n",
    "\n",
    "* [QControlBox](https://tket.quantinuum.com/api-docs/circuit.html#pytket.circuit.QControlBox) - Construct custom controlled gates in pytket using any base unitary operation. See the manual section on [controlled gates](https://tket.quantinuum.com/user-manual/manual_circuit.html#controlled-box-operations)\n",
    "\n",
    "* [Unitary2qBox](https://tket.quantinuum.com/api-docs/circuit.html#pytket.circuit.Unitary2qBox) - Allows you to generate an `Circuit` to implement an arbitrary 2 qubit operation. Unitary synthesis also available for 1 and 3 qubit operations. See the [manual section](https://tket.quantinuum.com/user-manual/manual_circuit.html#boxes-for-unitary-synthesis) for usage.\n",
    "\n",
    "* [StatePreparationBox](https://tket.quantinuum.com/api-docs/circuit.html#pytket.circuit.StatePreparationBox) - Allows preparation of an arbitary quantum state using a naive algorithm. See [the docs](https://tket.quantinuum.com/user-manual/manual_circuit.html#multiplexors-state-preperation-boxes-and-toffolibox) for more. \n",
    "\n",
    "\n",
    "## Other useful resources on Circuit construction\n",
    "\n",
    "* [Circuit construction section of the user manual](https://tket.quantinuum.com/user-manual/manual_circuit.html)\n",
    "\n",
    "* Example notebook on [Quantum Phase Estimation](https://tket.quantinuum.com/examples/phase_estimation.html) Show's the use of several circuit primitives to build circuits for quantum phase estimation"
   ]
  },
  {
   "cell_type": "markdown",
   "id": "72ed5b0e-e58a-457a-8a94-00e5668ff069",
   "metadata": {},
   "source": [
    "## Basic circuit rewrites\n",
    "\n",
    "\n",
    "### Rebases (converting a circuit to a desired gateset)\n",
    "\n",
    "Before you can run a circuit on a quantum device you have to convert the circuit to the gateset supported by the device. In pytket this conversion is called a rebase\n",
    "\n",
    "Here's a basic example converting our Bell state circuit to the native gates of an IBM device\n"
   ]
  },
  {
   "cell_type": "code",
   "execution_count": null,
   "id": "f87cd27e-11df-47d6-9a0e-628ce8489efd",
   "metadata": {},
   "outputs": [],
   "source": [
    "from pytket.passes.auto_rebase import auto_rebase_pass\n",
    "\n",
    "ibm_rebase = auto_rebase_pass({OpType.X, OpType.SX, OpType.Rz, OpType.ECR})\n",
    "\n",
    "ibm_rebase.apply(bell_circ)\n",
    "\n",
    "draw(bell_circ)"
   ]
  },
  {
   "cell_type": "markdown",
   "id": "badb3355",
   "metadata": {},
   "source": [
    "## Peephole Optimisation\n",
    "\n",
    "A rebase pass is useful for converting to the native gateset of the target device.\n",
    "\n",
    "However circuit optimistaion is another important part of a quantum compiler. This can have a big impact on circuit fidelity as we shall see.\n",
    "\n",
    "Lets try optimising a circuit from quantum chemistry with the general purpose `FullPeepholeOptimise` pass"
   ]
  },
  {
   "cell_type": "code",
   "execution_count": null,
   "id": "3353c9c6-58bb-4fba-804a-994a2b9b35b8",
   "metadata": {},
   "outputs": [],
   "source": [
    "jw_chem_circ = circuit_from_qasm(\"qasm/H2JordanWignerMapper.qasm\")\n",
    "draw(jw_chem_circ)\n",
    "\n",
    "print(\"Total gate count =\", jw_chem_circ.n_gates)\n",
    "print(\"#2 qubit gates =\", jw_chem_circ.n_2qb_gates())"
   ]
  },
  {
   "cell_type": "code",
   "execution_count": null,
   "id": "8b3a831c",
   "metadata": {},
   "outputs": [],
   "source": [
    "from pytket.passes import FullPeepholeOptimise\n",
    "\n",
    "FullPeepholeOptimise().apply(jw_chem_circ)\n",
    "\n",
    "draw(jw_chem_circ)\n",
    "print(\"Total gate count =\", jw_chem_circ.n_gates)\n",
    "print(\"#2 qubit gates =\", jw_chem_circ.n_2qb_gates())"
   ]
  },
  {
   "cell_type": "markdown",
   "id": "2d217d31",
   "metadata": {},
   "source": [
    "<div align=\"center\"> &copy; 2024 by Quantinuum. All Rights Reserved. </div>"
   ]
  }
 ],
 "metadata": {
  "kernelspec": {
   "display_name": "Python 3 (ipykernel)",
   "language": "python",
   "name": "python3"
  },
  "language_info": {
   "codemirror_mode": {
    "name": "ipython",
    "version": 3
   },
   "file_extension": ".py",
   "mimetype": "text/x-python",
   "name": "python",
   "nbconvert_exporter": "python",
   "pygments_lexer": "ipython3",
   "version": "3.10.11"
  }
 },
 "nbformat": 4,
 "nbformat_minor": 5
}
