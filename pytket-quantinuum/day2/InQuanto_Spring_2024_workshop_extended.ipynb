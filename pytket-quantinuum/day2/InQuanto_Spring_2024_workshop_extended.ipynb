{
 "cells": [
  {
   "cell_type": "markdown",
   "id": "04928ecd",
   "metadata": {},
   "source": [
    "<div style=\"text-align: center;\"><br>\n",
    "<img src=\"https://assets-global.website-files.com/62b9d45fb3f64842a96c9686/62d84db4aeb2f6552f3a2f78_Quantinuum%20Logo__horizontal%20blue.svg\" width=\"200\" height=\"200\" /></div>"
   ]
  },
  {
   "cell_type": "markdown",
   "id": "699e7d79",
   "metadata": {},
   "source": [
    "# Developing Quantum Computational Workflows with InQuanto"
   ]
  },
  {
   "cell_type": "markdown",
   "id": "a1c36f9b-4468-4bf1-8bd3-17e4eb89c9d2",
   "metadata": {},
   "source": [
    "This example notebook demonstrates some of the main modules in InQuanto&trade; to help researchers get started running Quantum Computational Chemistry calculations. \n",
    "\n",
    "Documentation for InQuanto is available at [inquanto.quantinuum.com](https://inquanto.quantinuum.com/)."
   ]
  },
  {
   "cell_type": "markdown",
   "id": "9f46235a-1bd0-49f8-9717-dc58a048f076",
   "metadata": {},
   "source": [
    "## DEMO 1 - Applications scientists\n",
    "\n",
    "### Using InQuanto to investigate *your* system "
   ]
  },
  {
   "cell_type": "markdown",
   "id": "ecc99cd2-814d-4e40-8528-9a1f2c5e461e",
   "metadata": {},
   "source": [
    "- Use InQuanto extensions to interface with other classical chemistry codes to construct their systems\n",
    "- For example, `inquanto-pyscf` allows interfacing with PySCF\n",
    "- PySCF is written in Python and allows for native control and manipulation\n",
    "\n",
    "Extensions Documentation: \n",
    "- InQuanto Extensions: https://inquanto.quantinuum.com/extensions/extensions-overview.html\n",
    "- InQuanto PySCF Extension: https://inquanto.quantinuum.com/extensions/inquanto-pyscf.html\n",
    "- InQuanto PySCF API documentation: https://inquanto.quantinuum.com/api/extensions/inquanto-pyscf_api.html"
   ]
  },
  {
   "cell_type": "code",
   "execution_count": 8,
   "id": "06b9a631-5b3c-4660-9743-70a74567a688",
   "metadata": {},
   "outputs": [],
   "source": [
    "from inquanto.extensions.pyscf import ChemistryDriverPySCFMolecularROHF, ChemistryDriverPySCFMolecularRHF\n",
    "from inquanto.geometries import GeometryMolecular"
   ]
  },
  {
   "cell_type": "code",
   "execution_count": 9,
   "id": "bbe35c83-c44e-4cd0-ae1e-d800f465f4aa",
   "metadata": {},
   "outputs": [],
   "source": [
    "# Initialize the chemistry driver\n",
    "\n",
    "# Could load an xyz or zmat file etc.\n",
    "# mol or pbc \n",
    "\n",
    "# geometry = GeometryMolecular.load_xyz('phenyloxonium.xyz')\n",
    "\n",
    "# Phenyloxonium\n",
    "geometry_list= [\n",
    "    ['O', (-1.13880,-1.89110, 0.11710)], \n",
    "    ['C', (-0.48870,-0.81700, 0.03930)],\n",
    "    ['C', ( 0.92130,-0.83500, 0.02630)],\n",
    "    ['C', (-1.16910, 0.41760,-0.02840)],\n",
    "    ['C', ( 1.64540, 0.37090,-0.03660)],\n",
    "    ['C', (-0.44530, 1.62320,-0.08100)],\n",
    "    ['C', ( 0.96220, 1.60080,-0.08120)],\n",
    "    ['H', ( 1.42890,-1.72290, 0.06010)],\n",
    "    ['H', (-2.19170, 0.44570,-0.03190)],\n",
    "    ['H', ( 2.66770, 0.35450,-0.04830)],\n",
    "    ['H', (-0.94170, 2.51660,-0.11680)],\n",
    "    ['H', ( 1.48760, 2.47710,-0.11410)],\n",
    "    ['H', (-2.01490,-1.88740, 0.02920)],\n",
    "    ['H', (-0.72290,-2.65290, 0.26620)]\n",
    "]\n",
    "\n",
    "geometry = GeometryMolecular(geometry_list)\n",
    "\n",
    "# Control of lots of pyscf options here\n",
    "driver = ChemistryDriverPySCFMolecularROHF(\n",
    "    geometry=geometry,\n",
    "    basis=\"sto-3g\",\n",
    "    point_group_symmetry = True,\n",
    "    multiplicity = 1,\n",
    "    charge = 1\n",
    ")"
   ]
  },
  {
   "cell_type": "code",
   "execution_count": 10,
   "id": "ef2a9deb-f1cc-4c70-aa91-1a865d57b0c7",
   "metadata": {},
   "outputs": [
    {
     "data": {
      "application/vnd.jupyter.widget-view+json": {
       "model_id": "9b31cb4d81274ce69bb51abc56a09e35",
       "version_major": 2,
       "version_minor": 0
      },
      "text/plain": [
       "NGLWidget()"
      ]
     },
     "metadata": {},
     "output_type": "display_data"
    }
   ],
   "source": [
    "# Can vizualize with another extension\n",
    "from inquanto.extensions.nglview import VisualizerNGL\n",
    "\n",
    "visualizer = VisualizerNGL(geometry)\n",
    "visualizer.visualize_molecule(atom_labels=\"index\")"
   ]
  },
  {
   "cell_type": "code",
   "execution_count": 11,
   "id": "8f247e27-f39b-45c2-b58f-f22ce8d665c9",
   "metadata": {},
   "outputs": [],
   "source": [
    "# Get the data to be mapped using get_system\n",
    "# This is the purpose of 'drivers'\n",
    "# Here this performs Hartree-Fock and \n",
    "hamiltonian, fock_space, fock_state = driver.get_system()"
   ]
  },
  {
   "cell_type": "code",
   "execution_count": 12,
   "id": "741ad316-ab61-4145-9c9e-45807ffe5286",
   "metadata": {},
   "outputs": [
    {
     "name": "stdout",
     "output_type": "stream",
     "text": [
      "<class 'inquanto.operators._chemistry_integral_operator.ChemistryRestrictedIntegralOperator'>\n",
      "<class 'inquanto.spaces._fermion_space.FermionSpace'>\n",
      "<class 'inquanto.states._fermion_state.FermionState'>\n"
     ]
    }
   ],
   "source": [
    "# InQuanto classes and types\n",
    "print(type(hamiltonian))\n",
    "print(type(fock_space))\n",
    "print(type(fock_state))"
   ]
  },
  {
   "cell_type": "code",
   "execution_count": 13,
   "id": "3584d60f-ad26-4803-b671-9a8b7e92a262",
   "metadata": {},
   "outputs": [
    {
     "name": "stdout",
     "output_type": "stream",
     "text": [
      "HF\t -302.0181424693229\n",
      "MP2\t -302.39696594659375\n",
      "CCSD\t -302.47209237724013\n"
     ]
    }
   ],
   "source": [
    "# Can use helper methods to get classical benchmarks\n",
    "print('HF:', driver.mf_energy)\n",
    "print('MP2:', driver.run_mp2())\n",
    "print('CCSD:', driver.run_ccsd()) # all electron\n",
    "#print('CASCI:', driver.run_casci())"
   ]
  },
  {
   "cell_type": "code",
   "execution_count": 14,
   "id": "35352702-189a-4693-b48e-e38d648666ff",
   "metadata": {},
   "outputs": [
    {
     "name": "stdout",
     "output_type": "stream",
     "text": [
      "\n",
      "******** AVAS flags ********\n",
      "aolabels = ['O 1s', 'O 2s', 'O 2p', '12 H 1s', '13 H 1s']\n",
      "aolabels_vir = ['O 1s', 'O 2s', 'O 2p', '12 H 1s', '13 H 1s']\n",
      "frozen = []\n",
      "minao = minao\n",
      "threshold = 0.2\n",
      "threshold (virtual) = 0.2\n",
      "with_iao = False\n",
      "force_halves_active = False\n",
      "canonicalize = True\n",
      "\n",
      "** AVAS **\n",
      "Total number of electrons: 50.0\n",
      "  Total number of HF MOs  is equal to    42\n",
      "  Number of occupied HF MOs is equal to  25\n",
      "reference AO indices for minao ['O 1s', 'O 2s', 'O 2p', '12 H 1s', '13 H 1s']: [ 0  1  2  3  4 40 41]\n",
      "(full basis) reference AO indices for sto-3g ['O 1s', 'O 2s', 'O 2p', '12 H 1s', '13 H 1s']: [ 0  1  2  3  4 40 41]\n",
      "Active from occupied = 2 , eig [0.99494639 0.99961298]\n",
      "Inactive from occupied = 23\n",
      "Active from unoccupied = 2 , eig [0.98440564 0.99144623]\n",
      "Inactive from unoccupied = 15\n",
      "Number of active orbitals 4\n",
      "# of alpha electrons 2\n",
      "# of beta electrons 2\n"
     ]
    }
   ],
   "source": [
    "from inquanto.extensions.pyscf import AVAS\n",
    "\n",
    "# Atomic valence active space\n",
    "avas= AVAS(aolabels=['O 1s', 'O 2s', 'O 2p', '12 H 1s','13 H 1s' ], n_occ=2, n_vir=2, verbose=5)\n",
    "\n",
    "avas_driver = ChemistryDriverPySCFMolecularROHF(\n",
    "    geometry=geometry,\n",
    "    basis='sto-3g',\n",
    "    transf=avas,\n",
    "    frozen=avas.frozenf,\n",
    "    multiplicity=1,\n",
    "    charge=1\n",
    ")\n",
    "avas_hamiltonian, avas_fock_space, avas_fock_state = avas_driver.get_system()"
   ]
  },
  {
   "cell_type": "code",
   "execution_count": 15,
   "id": "ad3a9cfc-5808-452f-88f0-82e3e2d4789b",
   "metadata": {},
   "outputs": [],
   "source": [
    "orbital_cubes = avas_driver.get_cube_orbitals(orbital_indices=[1,2])\n",
    "orbitals = [visualizer.visualize_orbitals(orb, red_isolevel=-2.0, blue_isolevel=2.0) for orb in orbital_cubes]"
   ]
  },
  {
   "cell_type": "code",
   "execution_count": 16,
   "id": "2f05a7ef-3ac9-43c9-ab7a-92cc7148c444",
   "metadata": {
    "scrolled": true
   },
   "outputs": [
    {
     "data": {
      "application/vnd.jupyter.widget-view+json": {
       "model_id": "940b7cb86006414f9b7db39ec18d9b08",
       "version_major": 2,
       "version_minor": 0
      },
      "text/plain": [
       "NGLWidget()"
      ]
     },
     "metadata": {},
     "output_type": "display_data"
    }
   ],
   "source": [
    "orbitals[1]"
   ]
  },
  {
   "cell_type": "code",
   "execution_count": 17,
   "id": "11d0203d-9f5f-4f96-af9e-41a07847708b",
   "metadata": {},
   "outputs": [
    {
     "name": "stdout",
     "output_type": "stream",
     "text": [
      "HF\t -302.0181424693229\n",
      "\"CAS\" MP2\t -302.0306380425498\n",
      "\"CAS\" CCSD\t -302.0215108455131\n",
      "\"CAS\" CASCI\t -302.02151087635565\n"
     ]
    }
   ],
   "source": [
    "# Can use helper methods to get classical benchmarks in an active space\n",
    "print('HF\\t', avas_driver.mf_energy)\n",
    "print('\"CAS\" MP2\\t', avas_driver.run_mp2())\n",
    "print('\"CAS\" CCSD\\t', avas_driver.run_ccsd()) # all electron\n",
    "print('\"CAS\" CASCI\\t', avas_driver.run_casci())"
   ]
  },
  {
   "cell_type": "code",
   "execution_count": 18,
   "id": "6c9742ea-3bf9-4c17-9659-b4c516f919de",
   "metadata": {},
   "outputs": [
    {
     "name": "stdout",
     "output_type": "stream",
     "text": [
      " 0 0a         :  1    \n",
      " 1 0b         :  1    \n",
      " 2 1a         :  1    \n",
      " 3 1b         :  1    \n",
      " 4 2a         :  0    \n",
      " 5 2b         :  0    \n",
      " 6 3a         :  0    \n",
      " 7 3b         :  0    \n"
     ]
    }
   ],
   "source": [
    "# inspect the AVAS Fock space\n",
    "avas_fock_space.print_state(avas_fock_state)"
   ]
  },
  {
   "cell_type": "markdown",
   "id": "6284b33e-5f0d-426e-8c21-fbb32cd30c0a",
   "metadata": {},
   "source": [
    "- Many different `inquanto-pyscf` drivers for different embedding methods and environment models\n",
    "    - QM/MM, COSMO, WFT-in-DFT,...\n",
    "    - Also periodic systems\n",
    "- Orbital transformation tools can be applied"
   ]
  },
  {
   "cell_type": "code",
   "execution_count": 19,
   "id": "a003fb04-a6ae-452a-9a0c-f422b8a34a02",
   "metadata": {},
   "outputs": [
    {
     "name": "stdout",
     "output_type": "stream",
     "text": [
      "26\n"
     ]
    }
   ],
   "source": [
    "# Express contains a compact variational quantum eigensolver method\n",
    "\n",
    "from inquanto.ansatzes import FermionSpaceAnsatzUCCSD, FermionSpaceAnsatzUCCD\n",
    "ansatz = FermionSpaceAnsatzUCCSD(fermion_space=avas_fock_space, fermion_state=avas_fock_state)\n",
    "print(len(ansatz.free_symbols())) # number of UCCSD term parameters to optimize in VQE"
   ]
  },
  {
   "cell_type": "code",
   "execution_count": 20,
   "id": "837882bd-f887-40d7-9ae6-3f7c2762bb27",
   "metadata": {},
   "outputs": [
    {
     "name": "stdout",
     "output_type": "stream",
     "text": [
      "   Coefficients            Terms\n",
      "0   -247.289884                 \n",
      "1    -27.564320          F0^ F0 \n",
      "2      0.429683          F0^ F2 \n",
      "3      0.262718          F0^ F4 \n",
      "4     -0.000208          F0^ F6 \n",
      "5      2.369955  F1^ F0^ F0  F1 \n",
      "6      2.369955  F1^ F0^ F0  F1 \n",
      "7     -0.208597  F1^ F0^ F0  F3 \n",
      "8     -0.208597  F1^ F0^ F0  F3 \n",
      "9     -0.132254  F1^ F0^ F0  F5 \n"
     ]
    }
   ],
   "source": [
    "from inquanto.operators import ChemistryRestrictedIntegralOperator\n",
    "crio=ChemistryRestrictedIntegralOperator.from_FermionOperator(avas_hamiltonian.to_FermionOperator().compress(abs_tol=1e-4))\n",
    "print(crio.df()[0:10])\n",
    "q_ham = crio.qubit_encode()"
   ]
  },
  {
   "cell_type": "code",
   "execution_count": 21,
   "id": "ba2de4bc-8c98-4bee-ab4d-0911f22b0dfb",
   "metadata": {},
   "outputs": [
    {
     "name": "stdout",
     "output_type": "stream",
     "text": [
      "# TIMER BLOCK-0 BEGINS AT 2024-05-07 10:37:39.396113\n",
      "# TIMER BLOCK-0 ENDS - DURATION (s): 18.3732406 [0:00:18.373241]\n",
      "-302.02150929414387\n",
      "-302.0215108455131\n",
      "{d0: -0.0005900034737191648, d1: 7.921038160772518e-07, d10: -1.0894312312150493e-08, d11: 2.5596186222059755e-08, d12: -3.649049488768865e-08, d13: -0.0006644520439024031, d14: -0.0281432592299454, d15: -1.2774961575494143e-07, d16: -1.277496167523326e-07, d17: -0.01298924488898081, d2: 2.559610434067746e-08, d3: -2.8646983556281982e-05, d4: -1.0894216528626738e-08, d5: 7.921038141233196e-07, d6: -0.0006006824888177041, d7: -3.6490410893782525e-08, d8: -0.0006644522191487454, d9: -2.86469817934077e-05, s0: 2.020225270495003e-05, s1: -9.469927055348106e-07, s2: 2.0202247771366247e-05, s3: -9.469925837966767e-07, s4: -0.001194551862935094, s5: 2.058534738517651e-05, s6: -0.0011945518614590366, s7: 2.0585347393190122e-05}\n"
     ]
    }
   ],
   "source": [
    "# Statevector backend from pytket (no measurement circuits here)\n",
    "from pytket.extensions.qiskit import AerStateBackend\n",
    "sv_backend = AerStateBackend()\n",
    "\n",
    "from inquanto.express import run_vqe\n",
    "vqe = run_vqe(ansatz, q_ham, sv_backend)\n",
    "print(vqe.final_value)\n",
    "print(avas_driver.run_ccsd())\n",
    "print(vqe.final_parameters)"
   ]
  },
  {
   "cell_type": "markdown",
   "id": "eecc77af-f9e5-4e27-a00f-b7fce39d3aca",
   "metadata": {},
   "source": [
    "## DEMO 2 - Computational Chemists"
   ]
  },
  {
   "cell_type": "code",
   "execution_count": 23,
   "id": "56722671-9b81-4b3f-b6df-1dc277cecdec",
   "metadata": {},
   "outputs": [
    {
     "name": "stdout",
     "output_type": "stream",
     "text": [
      "converged SCF energy = -7.98212617258416\n",
      "CASCI E = -7.98224546483825  E(CI) = -9.03289512252191  S^2 = 0.0000000\n",
      "Sr    (-1)',   E = -0.00137248954428\n",
      "Si    (+1)',   E = -0.00000000000000\n",
      "Sijrs (0)  ,   E = 0.00000000000000\n",
      "Sijr  (+1) ,   E = -0.00000000000000\n",
      "Srsi  (-1) ,   E = -0.00000000000000\n",
      "Srs   (-2) ,   E = -0.01678088131772\n",
      "Sij   (+2) ,   E = 0.00000000000000\n",
      "Sir   (0)' ,   E = -0.00000000000000\n",
      "Nevpt2 Energy = -0.018153370862006\n"
     ]
    }
   ],
   "source": [
    "# static and dynamic correlation tools\n",
    "from inquanto.extensions.pyscf import FromActiveSpace\n",
    "from inquanto.extensions.pyscf import ChemistryDriverPySCFMolecularRHF\n",
    "\n",
    "# perform a native PySCF calculation\n",
    "from pyscf import gto, scf, fci, mcscf\n",
    "\n",
    "mf = gto.M(atom=\"Li 0 0 0; H 0 0 1.511\", basis=\"cc-pvdz\").apply(scf.RHF).run()\n",
    "mc = mcscf.CASCI(mf, 4, 4)\n",
    "mc.run()\n",
    "(dm1, dm2, dm3, dm4) = fci.rdm.make_dm1234(\"FCI4pdm_kern_sf\", mc.ci, mc.ci, 4, 4)\n",
    "\n",
    "\n",
    "# load the pyscf calculation into an inquanto driver\n",
    "driver_for_nev = ChemistryDriverPySCFMolecularRHF.from_mf(\n",
    "    mf, frozen=FromActiveSpace(4, 4)(mf)\n",
    ")\n",
    "\n",
    "# explore convenience methods\n",
    "nevpt_energy = driver_for_nev.get_nevpt2_correction(rdms=(dm1, dm2, dm3, dm4))\n",
    "\n",
    "# from inquanto.computables.composite import RDM1234RealComputable"
   ]
  },
  {
   "cell_type": "markdown",
   "id": "210094bd-0ea6-4893-b468-6334c972e957",
   "metadata": {},
   "source": [
    "Another way to bring your system to InQuanto:\n",
    "\n",
    "Nexus's JupyterLab has NWChem preinstalled so we can download an example input (cell below) and obtain its integrals"
   ]
  },
  {
   "cell_type": "code",
   "execution_count": 25,
   "id": "53fa6b80",
   "metadata": {},
   "outputs": [
    {
     "name": "stdout",
     "output_type": "stream",
     "text": [
      "--2024-05-07 10:38:29--  https://raw.githubusercontent.com/nwchemgit/nwchem/master/QA/tests/fcidump_hf/fcidump_hf.nw\n",
      "Resolving raw.githubusercontent.com (raw.githubusercontent.com)... 185.199.108.133, 185.199.109.133, 185.199.111.133, ...\n",
      "Connecting to raw.githubusercontent.com (raw.githubusercontent.com)|185.199.108.133|:443... connected.\n",
      "HTTP request sent, awaiting response... 200 OK\n",
      "Length: 689 [text/plain]\n",
      "Saving to: ‘fcidump_hf.nw.2’\n",
      "\n",
      "fcidump_hf.nw.2     100%[===================>]     689  --.-KB/s    in 0s      \n",
      "\n",
      "2024-05-07 10:38:29 (48.2 MB/s) - ‘fcidump_hf.nw.2’ saved [689/689]\n",
      "\n"
     ]
    }
   ],
   "source": [
    "!wget https://raw.githubusercontent.com/nwchemgit/nwchem/master/QA/tests/fcidump_hf/fcidump_hf.nw"
   ]
  },
  {
   "cell_type": "code",
   "execution_count": 26,
   "id": "b2a2d817-fab5-473b-983a-024b6de5152b",
   "metadata": {},
   "outputs": [
    {
     "data": {
      "text/plain": [
       "CompletedProcess(args='nwchem fcidump_hf.nw>hf_fcidump.nwo', returncode=0)"
      ]
     },
     "execution_count": 26,
     "metadata": {},
     "output_type": "execute_result"
    }
   ],
   "source": [
    "# use fcidump to interface with other codes\n",
    "import subprocess\n",
    "subprocess.run(\"nwchem \" \"fcidump_hf.nw\" \">\" \"hf_fcidump.nwo\", shell=True, check=True, executable='/bin/bash')"
   ]
  },
  {
   "cell_type": "code",
   "execution_count": 27,
   "id": "0b133a23-7198-4641-a4a3-23df333df5ab",
   "metadata": {},
   "outputs": [],
   "source": [
    "from inquanto.operators import ChemistryRestrictedIntegralOperator\n",
    "from inquanto.spaces import FermionSpace\n",
    "fcidump_ham= ChemistryRestrictedIntegralOperator.from_fcidump('hf_fcidump.fcidump')[0]\n",
    "n_orbs=ChemistryRestrictedIntegralOperator.from_fcidump('hf_fcidump.fcidump')[1] # should be 12\n",
    "n_elec=ChemistryRestrictedIntegralOperator.from_fcidump('hf_fcidump.fcidump')[2] # should be 10\n",
    "multiplicity=ChemistryRestrictedIntegralOperator.from_fcidump('hf_fcidump.fcidump')[3] # should be 1 "
   ]
  },
  {
   "cell_type": "code",
   "execution_count": 28,
   "id": "d311f6ef-3bfb-4e74-8b76-6b1eb09f417c",
   "metadata": {},
   "outputs": [
    {
     "data": {
      "text/html": [
       "<div>\n",
       "<style scoped>\n",
       "    .dataframe tbody tr th:only-of-type {\n",
       "        vertical-align: middle;\n",
       "    }\n",
       "\n",
       "    .dataframe tbody tr th {\n",
       "        vertical-align: top;\n",
       "    }\n",
       "\n",
       "    .dataframe thead th {\n",
       "        text-align: right;\n",
       "    }\n",
       "</style>\n",
       "<table border=\"1\" class=\"dataframe\">\n",
       "  <thead>\n",
       "    <tr style=\"text-align: right;\">\n",
       "      <th></th>\n",
       "      <th>Coefficients</th>\n",
       "      <th>Terms</th>\n",
       "    </tr>\n",
       "  </thead>\n",
       "  <tbody>\n",
       "    <tr>\n",
       "      <th>0</th>\n",
       "      <td>-71.436374</td>\n",
       "      <td></td>\n",
       "    </tr>\n",
       "    <tr>\n",
       "      <th>1</th>\n",
       "      <td>-6.943249</td>\n",
       "      <td>F0^ F0</td>\n",
       "    </tr>\n",
       "    <tr>\n",
       "      <th>2</th>\n",
       "      <td>-0.152505</td>\n",
       "      <td>F0^ F2</td>\n",
       "    </tr>\n",
       "    <tr>\n",
       "      <th>3</th>\n",
       "      <td>0.641500</td>\n",
       "      <td>F0^ F8</td>\n",
       "    </tr>\n",
       "    <tr>\n",
       "      <th>4</th>\n",
       "      <td>-0.066312</td>\n",
       "      <td>F0^ F14</td>\n",
       "    </tr>\n",
       "    <tr>\n",
       "      <th>5</th>\n",
       "      <td>0.314453</td>\n",
       "      <td>F0^ F16</td>\n",
       "    </tr>\n",
       "    <tr>\n",
       "      <th>6</th>\n",
       "      <td>0.972105</td>\n",
       "      <td>F0^ F18</td>\n",
       "    </tr>\n",
       "    <tr>\n",
       "      <th>7</th>\n",
       "      <td>0.160611</td>\n",
       "      <td>F0^ F20</td>\n",
       "    </tr>\n",
       "    <tr>\n",
       "      <th>8</th>\n",
       "      <td>0.442139</td>\n",
       "      <td>F1^ F0^ F0  F1</td>\n",
       "    </tr>\n",
       "    <tr>\n",
       "      <th>9</th>\n",
       "      <td>0.442139</td>\n",
       "      <td>F1^ F0^ F0  F1</td>\n",
       "    </tr>\n",
       "  </tbody>\n",
       "</table>\n",
       "</div>"
      ],
      "text/plain": [
       "   Coefficients            Terms\n",
       "0    -71.436374                 \n",
       "1     -6.943249          F0^ F0 \n",
       "2     -0.152505          F0^ F2 \n",
       "3      0.641500          F0^ F8 \n",
       "4     -0.066312         F0^ F14 \n",
       "5      0.314453         F0^ F16 \n",
       "6      0.972105         F0^ F18 \n",
       "7      0.160611         F0^ F20 \n",
       "8      0.442139  F1^ F0^ F0  F1 \n",
       "9      0.442139  F1^ F0^ F0  F1 "
      ]
     },
     "execution_count": 28,
     "metadata": {},
     "output_type": "execute_result"
    }
   ],
   "source": [
    "fcidump_ham.df()[0:10]"
   ]
  },
  {
   "cell_type": "code",
   "execution_count": 29,
   "id": "ed26e017-a343-4ef4-9afa-aee1ed30e819",
   "metadata": {},
   "outputs": [
    {
     "data": {
      "text/plain": [
       "<inquanto.operators._double_factorized.DoubleFactorizedHamiltonian at 0x7fc0d1c2f5b0>"
      ]
     },
     "execution_count": 29,
     "metadata": {},
     "output_type": "execute_result"
    }
   ],
   "source": [
    "fcidump_ham.double_factorize()"
   ]
  },
  {
   "cell_type": "markdown",
   "id": "d4a2d245-d98e-443d-a87d-30a91896fb20",
   "metadata": {},
   "source": [
    "- DMET, DMFT, Green's functions \n",
    "- Algorithms:  Variational Quantum Deflation, Quantum Subspace Expansion, Self Consistent Equation of Motion (contrast to e.g. EOM-CCSD)"
   ]
  },
  {
   "cell_type": "markdown",
   "id": "cc9af03b-42de-46d6-b19c-23265156ebfa",
   "metadata": {},
   "source": [
    "## DEMO 3 - ‘Quantum quantum chemists’"
   ]
  },
  {
   "cell_type": "markdown",
   "id": "6f3a4ed6-2a68-47cd-9e29-2f6cdb0d4689",
   "metadata": {},
   "source": [
    "### Computables (and nested computables)"
   ]
  },
  {
   "cell_type": "code",
   "execution_count": 32,
   "id": "cdb454fa-d4e5-4839-9006-41e22b1e46a8",
   "metadata": {},
   "outputs": [],
   "source": [
    "# load in an example system from express\n",
    "from inquanto.express import load_h5, get_system\n",
    "#hehp\n",
    "hehp_sto3g_data = load_h5(\"hehp_sto3g.h5\", as_tuple=True)\n",
    "ham, fock_space, fock_state=get_system(hehp_sto3g_data)"
   ]
  },
  {
   "cell_type": "code",
   "execution_count": 33,
   "id": "23c951ea-17c8-4db9-910a-c591409baa04",
   "metadata": {},
   "outputs": [
    {
     "data": {
      "text/plain": [
       "-2.8510240323071567"
      ]
     },
     "execution_count": 33,
     "metadata": {},
     "output_type": "execute_result"
    }
   ],
   "source": [
    "# this system comes with precalculated data\n",
    "hehp_sto3g_data.energy_ccsd"
   ]
  },
  {
   "cell_type": "code",
   "execution_count": 34,
   "id": "bccad78f-0f31-4302-9931-b9f8709ee7fb",
   "metadata": {},
   "outputs": [
    {
     "data": {
      "text/plain": [
       "<inquanto.ansatzes._fock_space_ansatz_chemically_aware_uccsd.FermionSpaceAnsatzChemicallyAwareUCCSD, qubits=4, gates=99, symbols=3>"
      ]
     },
     "execution_count": 34,
     "metadata": {},
     "output_type": "execute_result"
    }
   ],
   "source": [
    "# utilize a shallower form of UCCSD ansatz\n",
    "from inquanto.ansatzes import FermionSpaceAnsatzChemicallyAwareUCCSD\n",
    "CA_ansatz = FermionSpaceAnsatzChemicallyAwareUCCSD(fock_space, fock_state)\n",
    "\n",
    "# can copy the state and change the symbol names so we have two similar states to test overlapping\n",
    "CA_ansatz2 = CA_ansatz.copy()\n",
    "CA_ansatz2.symbol_substitution(r\"{}_1\")"
   ]
  },
  {
   "cell_type": "code",
   "execution_count": 35,
   "id": "de49e46a-2dc3-4c60-aeac-113597dcf61b",
   "metadata": {},
   "outputs": [],
   "source": [
    "# use spaces to construct operators\n",
    "spin_operator= fock_space.construct_spin_operator()"
   ]
  },
  {
   "cell_type": "code",
   "execution_count": 36,
   "id": "e0176427-b191-4eba-9ccf-760769707256",
   "metadata": {},
   "outputs": [
    {
     "data": {
      "text/plain": [
       "(0.75, ), (-0.375, Z0 Z1), (0.125, Y0 X1 Y2 X3), (-0.125, Y0 X1 X2 Y3), (0.125, X0 X1 Y2 Y3), (0.125, X0 X1 X2 X3), (0.125, Y0 Y1 Y2 Y3), (0.125, Y0 Y1 X2 X3), (-0.125, X0 Y1 Y2 X3), (0.125, X0 Y1 X2 Y3), (-0.375, Z2 Z3), (0.125, Z0 Z2), (-0.125, Z0 Z3), (-0.125, Z1 Z2), (0.125, Z1 Z3)"
      ]
     },
     "execution_count": 36,
     "metadata": {},
     "output_type": "execute_result"
    }
   ],
   "source": [
    "# and map those operators to qubits (assumes Jordan-Wigner here)\n",
    "spin_operator.qubit_encode()"
   ]
  },
  {
   "cell_type": "code",
   "execution_count": 37,
   "id": "a8fd0eff-79d9-4c42-ae1e-13a1c27c5201",
   "metadata": {},
   "outputs": [
    {
     "name": "stdout",
     "output_type": "stream",
     "text": [
      "27\n",
      "<class 'inquanto.operators._qubit_operator.QubitOperator'>\n",
      "23\n"
     ]
    }
   ],
   "source": [
    "# other mappings are available\n",
    "from inquanto.mappings import QubitMappingBravyiKitaev\n",
    "\n",
    "bk_mapping = QubitMappingBravyiKitaev()\n",
    "example_qo= bk_mapping.operator_map(ham, qubits=4)\n",
    "# could also do bk_mapping.state_map\n",
    "\n",
    "print(len(example_qo.items()))\n",
    "print(type(example_qo))\n",
    "example_qo.compress(abs_tol=1e-2)\n",
    "print((len(example_qo.items())))"
   ]
  },
  {
   "cell_type": "markdown",
   "id": "141f0e41-1918-469c-8c4f-621c035f85f2",
   "metadata": {},
   "source": [
    "Fundamental building blocks"
   ]
  },
  {
   "cell_type": "code",
   "execution_count": 39,
   "id": "52feddb3-c967-4c70-9f57-34717417ce82",
   "metadata": {},
   "outputs": [],
   "source": [
    "from inquanto.computables.atomic import ExpectationValue  # <A|\\hat{O}|A>\n",
    "from inquanto.computables.atomic import Overlap  # <A|\\hat{O}|B>\n",
    "from inquanto.computables.atomic import OverlapSquared # |<A|\\hat{O}|B>|^2\n",
    "from inquanto.computables.atomic import ExpectationValueDerivative # d_X #<A(X)|\\hat{O}|A(X)>"
   ]
  },
  {
   "cell_type": "code",
   "execution_count": 40,
   "id": "d0f6f5d3-b7a2-42f2-8e3f-eba0b635bfcb",
   "metadata": {},
   "outputs": [],
   "source": [
    "expval = ExpectationValue(CA_ansatz, ham.qubit_encode())\n",
    "\n",
    "gradient = ExpectationValueDerivative(CA_ansatz, ham.qubit_encode(), CA_ansatz.free_symbols_ordered())\n",
    "\n",
    "overlap = Overlap(CA_ansatz, CA_ansatz2)\n",
    "\n",
    "random_params = CA_ansatz.state_symbols.construct_from_array([0.01, 0.02, 0.03])\n",
    "\n",
    "random_params2 = CA_ansatz2.state_symbols.construct_from_array([0.3, 0.2, -0.05])\n",
    "\n",
    "# combine the two symboldicts into 1 new one\n",
    "parameters = random_params.copy().update(random_params2)\n"
   ]
  },
  {
   "cell_type": "code",
   "execution_count": 41,
   "id": "b06227b5-2c4e-44bf-a2e7-d9eebc6bd684",
   "metadata": {},
   "outputs": [],
   "source": [
    "# there are much more complex computables! e.g.\n",
    "#from inquanto.computables.composite import KrylovSubspaceComputable"
   ]
  },
  {
   "cell_type": "code",
   "execution_count": 42,
   "id": "353ff311-fa94-422c-9e14-0c83b19eb087",
   "metadata": {},
   "outputs": [],
   "source": [
    "# Computables can be used to construct novel algorithms\n",
    "\n",
    "from inquanto.algorithms import AlgorithmVQE\n",
    "from inquanto.minimizers import MinimizerScipy\n",
    "\n",
    "vqe = AlgorithmVQE(\n",
    "        objective_expression=expval, #computable\n",
    "        gradient_expression=gradient, # computable\n",
    "        minimizer=MinimizerScipy(),\n",
    "        initial_parameters=ansatz.state_symbols.construct_zeros())\n",
    "\n",
    "# At this point this is kind of a symbolic algorithm\n",
    "# The VQE represents minimizing the expval, using the gradient \n",
    "# A designer can build custom objective functions"
   ]
  },
  {
   "cell_type": "code",
   "execution_count": 43,
   "id": "61fe9f20-f109-405f-8c08-eff95170433f",
   "metadata": {},
   "outputs": [
    {
     "data": {
      "text/plain": [
       "<inquanto.algorithms.vqe._algorithm_vqe.AlgorithmVQE at 0x7fc0fab65c60>"
      ]
     },
     "execution_count": 43,
     "metadata": {},
     "output_type": "execute_result"
    }
   ],
   "source": [
    "# One way to evaluate these computable quantities is using statevector representations of \n",
    "# operators and states and performing the linear algebra directly.\n",
    "\n",
    "from inquanto.protocols import SparseStatevectorProtocol\n",
    "sv_protocol = SparseStatevectorProtocol(AerStateBackend())\n",
    "\n",
    "# build makes the objects to evaluate the computables (here the sparse matrix representations)\n",
    "vqe.build(protocol_objective=sv_protocol,\n",
    "        protocol_gradient=sv_protocol)"
   ]
  },
  {
   "cell_type": "code",
   "execution_count": 44,
   "id": "cfc2b698-5abf-40db-8281-d81d8bba14a9",
   "metadata": {},
   "outputs": [
    {
     "name": "stdout",
     "output_type": "stream",
     "text": [
      "# TIMER BLOCK-1 BEGINS AT 2024-05-07 10:38:46.701120\n",
      "# TIMER BLOCK-1 ENDS - DURATION (s):  4.3999881 [0:00:04.399988]\n",
      "-2.8510240299772174\n"
     ]
    }
   ],
   "source": [
    "# uses the protocols to evaluate the computables, minimizing the objective\n",
    "vqe.run()\n",
    "print(vqe.final_value)\n",
    "h2_CA_params=vqe.final_parameters"
   ]
  },
  {
   "cell_type": "markdown",
   "id": "11dd2fd5-cddf-4008-8878-5e2d563b575d",
   "metadata": {},
   "source": [
    "# We haven't even thought about circuits yet!"
   ]
  },
  {
   "cell_type": "code",
   "execution_count": 45,
   "id": "1a5cfaf6-7809-4379-83d7-0af639367616",
   "metadata": {},
   "outputs": [],
   "source": [
    "# One way to evaluate an expectation value is through PauliAveraging \\hat{O} = \\sum_i h_i P_i \n",
    "# This gives us a 'protocol' for constructing circuits, measuring them, and interpreting the results"
   ]
  },
  {
   "cell_type": "code",
   "execution_count": 46,
   "id": "701c263a-0bc9-46c0-832d-ee61546e6984",
   "metadata": {},
   "outputs": [],
   "source": [
    "# Circuit based PROTOCOLS\n",
    "from inquanto.protocols import PauliAveraging\n",
    "\n",
    "from pytket.extensions.qiskit import AerBackend\n",
    "\n",
    "from pytket.partition import PauliPartitionStrat"
   ]
  },
  {
   "cell_type": "code",
   "execution_count": 47,
   "id": "bb239302-b3ea-4c40-ab21-fa1cf1353ed1",
   "metadata": {},
   "outputs": [
    {
     "name": "stdout",
     "output_type": "stream",
     "text": [
      "Number of circuits:  3\n"
     ]
    }
   ],
   "source": [
    "# instantiate an abstract measurement approach for quantities of this type\n",
    "protocol = PauliAveraging(\n",
    "   backend=AerBackend(), # need this for compilation\n",
    "   shots_per_circuit=10000,\n",
    "   pauli_partition_strategy=PauliPartitionStrat.CommutingSets\n",
    ")\n",
    "\n",
    "# build circuits using information in the computable\n",
    "# this is where the computable unfolds and we remove redundancies\n",
    "protocol.build_from(h2_CA_params, expval) #or random_params\n",
    "\n",
    "# To measure this Hamiltonian on this state with CommutingSets we need 3 circuits\n",
    "# without, it is 26\n",
    "print(\"Number of circuits: \", protocol.n_circuit)"
   ]
  },
  {
   "cell_type": "code",
   "execution_count": 48,
   "id": "5a21abfb-82c3-4d22-baf4-28bfedced49b",
   "metadata": {},
   "outputs": [],
   "source": [
    "from pytket.circuit.display import render_circuit_jupyter"
   ]
  },
  {
   "cell_type": "code",
   "execution_count": 49,
   "id": "a1d5c0a8-2683-40f2-890d-15e21b33e1da",
   "metadata": {},
   "outputs": [
    {
     "data": {
      "text/html": [
       "\n",
       "\n",
       "\n",
       "\n",
       "\n",
       "\n",
       "<div style=\"resize: vertical; overflow: auto; height: 400px; display: block\">\n",
       "    <iframe srcdoc=\"\n",
       "&lt;!DOCTYPE html&gt;\n",
       "&lt;html lang=&#34;en&#34;&gt;\n",
       "&lt;head&gt;\n",
       "    &lt;meta charset=&#34;UTF-8&#34;&gt;\n",
       "    &lt;!-- Download Vue 3--&gt;\n",
       "&lt;script type=&#34;application/javascript&#34; src=&#34;https://cdn.jsdelivr.net/npm/vue@3&#34;&gt;&lt;/script&gt;\n",
       "&lt;!-- Download Circuit Renderer with styles --&gt;\n",
       "&lt;script type=&#34;application/javascript&#34; src=&#34;https://unpkg.com/pytket-circuit-renderer@0.7/dist/pytket-circuit-renderer.umd.js&#34;&gt;&lt;/script&gt;\n",
       "&lt;link rel=&#34;stylesheet&#34; href=&#34;https://unpkg.com/pytket-circuit-renderer@0.7/dist/pytket-circuit-renderer.css&#34;&gt;\n",
       "&lt;/head&gt;\n",
       "&lt;body&gt;\n",
       "\n",
       "\n",
       "\n",
       "    &lt;div id=&#34;circuit-display-vue-container-1de07481-85bd-419d-a387-94d00a1756fd&#34; class=&#34;pytket-circuit-display-container&#34;&gt;\n",
       "        &lt;div style=&#34;display: none&#34;&gt;\n",
       "            &lt;div id=&#34;circuit-json-to-display&#34;&gt;{&#34;bits&#34;: [[&#34;c&#34;, [0]], [&#34;c&#34;, [1]], [&#34;c&#34;, [2]], [&#34;c&#34;, [3]]], &#34;commands&#34;: [{&#34;args&#34;: [[&#34;q&#34;, [0]]], &#34;op&#34;: {&#34;params&#34;: [&#34;0&#34;, &#34;0.5&#34;, &#34;1/2&#34;], &#34;type&#34;: &#34;TK1&#34;}}, {&#34;args&#34;: [[&#34;q&#34;, [2]]], &#34;op&#34;: {&#34;params&#34;: [&#34;0&#34;, &#34;1/2&#34;, &#34;0&#34;], &#34;type&#34;: &#34;TK1&#34;}}, {&#34;args&#34;: [[&#34;q&#34;, [2]], [&#34;q&#34;, [0]]], &#34;op&#34;: {&#34;type&#34;: &#34;CX&#34;}}, {&#34;args&#34;: [[&#34;q&#34;, [0]]], &#34;op&#34;: {&#34;params&#34;: [&#34;0&#34;, &#34;1/2&#34;, &#34;-0.0662438239703339/pi&#34;], &#34;type&#34;: &#34;TK1&#34;}}, {&#34;args&#34;: [[&#34;q&#34;, [2]]], &#34;op&#34;: {&#34;params&#34;: [&#34;0&#34;, &#34;-1.97891393593162&#34;, &#34;0&#34;], &#34;type&#34;: &#34;TK1&#34;}}, {&#34;args&#34;: [[&#34;q&#34;, [2]], [&#34;q&#34;, [0]]], &#34;op&#34;: {&#34;type&#34;: &#34;CX&#34;}}, {&#34;args&#34;: [[&#34;q&#34;, [0]], [&#34;q&#34;, [1]]], &#34;op&#34;: {&#34;type&#34;: &#34;CX&#34;}}, {&#34;args&#34;: [[&#34;q&#34;, [2]]], &#34;op&#34;: {&#34;params&#34;: [&#34;0&#34;, &#34;-5/2&#34;, &#34;0&#34;], &#34;type&#34;: &#34;TK1&#34;}}, {&#34;args&#34;: [[&#34;q&#34;, [0]]], &#34;op&#34;: {&#34;params&#34;: [&#34;0&#34;, &#34;-1/2&#34;, &#34;0&#34;], &#34;type&#34;: &#34;TK1&#34;}}, {&#34;args&#34;: [[&#34;q&#34;, [1]]], &#34;op&#34;: {&#34;params&#34;: [&#34;0&#34;, &#34;0&#34;, &#34;1/2&#34;], &#34;type&#34;: &#34;TK1&#34;}}, {&#34;args&#34;: [[&#34;q&#34;, [2]], [&#34;q&#34;, [3]]], &#34;op&#34;: {&#34;type&#34;: &#34;CX&#34;}}, {&#34;args&#34;: [[&#34;q&#34;, [2]]], &#34;op&#34;: {&#34;params&#34;: [&#34;1/2&#34;, &#34;1/2&#34;, &#34;0&#34;], &#34;type&#34;: &#34;TK1&#34;}}, {&#34;args&#34;: [[&#34;q&#34;, [3]]], &#34;op&#34;: {&#34;params&#34;: [&#34;1/2&#34;, &#34;-1.5&#34;, &#34;0&#34;], &#34;type&#34;: &#34;TK1&#34;}}, {&#34;args&#34;: [[&#34;q&#34;, [1]], [&#34;q&#34;, [2]]], &#34;op&#34;: {&#34;type&#34;: &#34;CX&#34;}}, {&#34;args&#34;: [[&#34;q&#34;, [2]]], &#34;op&#34;: {&#34;params&#34;: [&#34;0&#34;, &#34;0&#34;, &#34;-1/2&#34;], &#34;type&#34;: &#34;TK1&#34;}}, {&#34;args&#34;: [[&#34;q&#34;, [2]], [&#34;q&#34;, [0]]], &#34;op&#34;: {&#34;type&#34;: &#34;CX&#34;}}, {&#34;args&#34;: [[&#34;q&#34;, [0]]], &#34;op&#34;: {&#34;params&#34;: [&#34;0&#34;, &#34;1/2&#34;, &#34;0.0118038761126573/pi&#34;], &#34;type&#34;: &#34;TK1&#34;}}, {&#34;args&#34;: [[&#34;q&#34;, [2]]], &#34;op&#34;: {&#34;params&#34;: [&#34;1/2&#34;, &#34;1.99624270953805&#34;, &#34;0&#34;], &#34;type&#34;: &#34;TK1&#34;}}, {&#34;args&#34;: [[&#34;q&#34;, [2]], [&#34;q&#34;, [0]]], &#34;op&#34;: {&#34;type&#34;: &#34;CX&#34;}}, {&#34;args&#34;: [[&#34;q&#34;, [0]], [&#34;c&#34;, [0]]], &#34;op&#34;: {&#34;type&#34;: &#34;Measure&#34;}}, {&#34;args&#34;: [[&#34;q&#34;, [1]], [&#34;q&#34;, [2]]], &#34;op&#34;: {&#34;type&#34;: &#34;CX&#34;}}, {&#34;args&#34;: [[&#34;q&#34;, [1]]], &#34;op&#34;: {&#34;params&#34;: [&#34;0&#34;, &#34;-0.5&#34;, &#34;1&#34;], &#34;type&#34;: &#34;TK1&#34;}}, {&#34;args&#34;: [[&#34;q&#34;, [2]]], &#34;op&#34;: {&#34;params&#34;: [&#34;1/2&#34;, &#34;-5/2&#34;, &#34;-1/2&#34;], &#34;type&#34;: &#34;TK1&#34;}}, {&#34;args&#34;: [[&#34;q&#34;, [2]], [&#34;q&#34;, [3]]], &#34;op&#34;: {&#34;type&#34;: &#34;CX&#34;}}, {&#34;args&#34;: [[&#34;q&#34;, [3]]], &#34;op&#34;: {&#34;params&#34;: [&#34;0&#34;, &#34;0&#34;, &#34;-1/2&#34;], &#34;type&#34;: &#34;TK1&#34;}}, {&#34;args&#34;: [[&#34;q&#34;, [3]], [&#34;q&#34;, [1]]], &#34;op&#34;: {&#34;type&#34;: &#34;CX&#34;}}, {&#34;args&#34;: [[&#34;q&#34;, [1]]], &#34;op&#34;: {&#34;params&#34;: [&#34;0&#34;, &#34;1/2&#34;, &#34;0.0118038761126576/pi&#34;], &#34;type&#34;: &#34;TK1&#34;}}, {&#34;args&#34;: [[&#34;q&#34;, [3]]], &#34;op&#34;: {&#34;params&#34;: [&#34;1/2&#34;, &#34;1.99624270953805&#34;, &#34;0&#34;], &#34;type&#34;: &#34;TK1&#34;}}, {&#34;args&#34;: [[&#34;q&#34;, [3]], [&#34;q&#34;, [1]]], &#34;op&#34;: {&#34;type&#34;: &#34;CX&#34;}}, {&#34;args&#34;: [[&#34;q&#34;, [1]]], &#34;op&#34;: {&#34;params&#34;: [&#34;0&#34;, &#34;0&#34;, &#34;-1.5&#34;], &#34;type&#34;: &#34;TK1&#34;}}, {&#34;args&#34;: [[&#34;q&#34;, [2]], [&#34;q&#34;, [3]]], &#34;op&#34;: {&#34;type&#34;: &#34;CX&#34;}}, {&#34;args&#34;: [[&#34;q&#34;, [2]], [&#34;c&#34;, [2]]], &#34;op&#34;: {&#34;type&#34;: &#34;Measure&#34;}}, {&#34;args&#34;: [[&#34;q&#34;, [3]]], &#34;op&#34;: {&#34;params&#34;: [&#34;0&#34;, &#34;-5/2&#34;, &#34;-1/2&#34;], &#34;type&#34;: &#34;TK1&#34;}}, {&#34;args&#34;: [[&#34;q&#34;, [1]], [&#34;q&#34;, [3]]], &#34;op&#34;: {&#34;type&#34;: &#34;CX&#34;}}, {&#34;args&#34;: [[&#34;q&#34;, [3]], [&#34;c&#34;, [3]]], &#34;op&#34;: {&#34;type&#34;: &#34;Measure&#34;}}, {&#34;args&#34;: [[&#34;q&#34;, [1]]], &#34;op&#34;: {&#34;params&#34;: [&#34;1/2&#34;, &#34;1/2&#34;, &#34;1/2&#34;], &#34;type&#34;: &#34;TK1&#34;}}, {&#34;args&#34;: [[&#34;q&#34;, [1]], [&#34;c&#34;, [1]]], &#34;op&#34;: {&#34;type&#34;: &#34;Measure&#34;}}], &#34;created_qubits&#34;: [], &#34;discarded_qubits&#34;: [], &#34;implicit_permutation&#34;: [[[&#34;q&#34;, [0]], [&#34;q&#34;, [0]]], [[&#34;q&#34;, [1]], [&#34;q&#34;, [1]]], [[&#34;q&#34;, [2]], [&#34;q&#34;, [2]]], [[&#34;q&#34;, [3]], [&#34;q&#34;, [3]]]], &#34;name&#34;: &#34;GBSTGNRSMQ3GK,0&#34;, &#34;phase&#34;: &#34;1.0&#34;, &#34;qubits&#34;: [[&#34;q&#34;, [0]], [&#34;q&#34;, [1]], [&#34;q&#34;, [2]], [&#34;q&#34;, [3]]]}&lt;/div&gt;\n",
       "        &lt;/div&gt;\n",
       "        &lt;circuit-display-container\n",
       "                :circuit-element-str=&#34;&#39;#circuit-json-to-display&#39;&#34;\n",
       "                :init-render-options=&#34;initRenderOptions&#34;\n",
       "        &gt;&lt;/circuit-display-container&gt;\n",
       "    &lt;/div&gt;\n",
       "    &lt;script type=&#34;application/javascript&#34;&gt;\n",
       "      const circuitRendererUid = &#34;1de07481-85bd-419d-a387-94d00a1756fd&#34;;\n",
       "      const displayOptions = JSON.parse(&#39;{}&#39;);\n",
       "\n",
       "      // Script to initialise the circuit renderer app\n",
       "\n",
       "const { createApp } = Vue;\n",
       "const circuitDisplayContainer = window[&#34;pytket-circuit-renderer&#34;].default;\n",
       "// Init variables to be shared between circuit display instances\n",
       "if (typeof window.pytketCircuitDisplays === &#34;undefined&#34;) {\n",
       "    window.pytketCircuitDisplays = {};\n",
       "}\n",
       "// Create the root Vue component\n",
       "const app = createApp({\n",
       "    delimiters: [&#39;[[#&#39;, &#39;#]]&#39;],\n",
       "    components: { circuitDisplayContainer },\n",
       "    data () {\n",
       "      return {\n",
       "        initRenderOptions: displayOptions,\n",
       "      }\n",
       "    }\n",
       "})\n",
       "app.config.unwrapInjectedRef = true;\n",
       "app.mount(&#34;#circuit-display-vue-container-&#34;+circuitRendererUid);\n",
       "window.pytketCircuitDisplays[circuitRendererUid] = app;\n",
       "    &lt;/script&gt;\n",
       "\n",
       "\n",
       "\n",
       "&lt;/body&gt;\n",
       "&lt;/html&gt;\n",
       "\"\n",
       "            width=\"100%\" height=\"100%\"\n",
       "            style=\"border: none; outline: none; overflow: auto\"></iframe>\n",
       "</div>\n",
       "\n"
      ],
      "text/plain": [
       "<IPython.core.display.HTML object>"
      ]
     },
     "metadata": {},
     "output_type": "display_data"
    }
   ],
   "source": [
    "render_circuit_jupyter(protocol.get_circuits()[0])"
   ]
  },
  {
   "cell_type": "code",
   "execution_count": 50,
   "id": "a8ff6864-5a5b-480e-b8fd-934097dc34a3",
   "metadata": {},
   "outputs": [
    {
     "data": {
      "text/plain": [
       "<inquanto.protocols.averaging._pauli_averaging.PauliAveraging at 0x7fc119496fb0>"
      ]
     },
     "execution_count": 50,
     "metadata": {},
     "output_type": "execute_result"
    }
   ],
   "source": [
    "# asynchronous, storeable, shareable, reuseable\n",
    "# launch sends the 3 circuits for execution\n",
    "handles=protocol.launch()\n",
    "protocol.retrieve(handles)"
   ]
  },
  {
   "cell_type": "code",
   "execution_count": 51,
   "id": "14c6251f-14c1-4e66-a55c-5fb9b27b4e7c",
   "metadata": {},
   "outputs": [],
   "source": [
    "#protocol.dataframe_measurements()"
   ]
  },
  {
   "cell_type": "code",
   "execution_count": 52,
   "id": "bec25339-94ad-491b-88ec-f0c028c7f091",
   "metadata": {},
   "outputs": [
    {
     "name": "stdout",
     "output_type": "stream",
     "text": [
      "Stochastic 10000 shots noisefree evaluation:  -2.8513127495978305  Ha\n"
     ]
    }
   ],
   "source": [
    "print('Stochastic 10000 shots noisefree evaluation: ', expval.evaluate(protocol.get_evaluator()), ' Ha')\n",
    "#will converge to below in sampling limit"
   ]
  },
  {
   "cell_type": "code",
   "execution_count": 53,
   "id": "fb79fc28-4859-4f8f-b53b-d2dea3d36d9e",
   "metadata": {},
   "outputs": [
    {
     "name": "stdout",
     "output_type": "stream",
     "text": [
      "Exact statevector evaluation  -2.8510240299772174  Ha\n"
     ]
    }
   ],
   "source": [
    "print('Exact statevector evaluation ', expval.default_evaluate(h2_CA_params), ' Ha')"
   ]
  },
  {
   "cell_type": "code",
   "execution_count": 54,
   "id": "f8044848-1886-4f86-b04c-af35725bb1cc",
   "metadata": {},
   "outputs": [
    {
     "data": {
      "text/plain": [
       "-2.4455324386345985+/-0.008613651079363488"
      ]
     },
     "execution_count": 54,
     "metadata": {},
     "output_type": "execute_result"
    }
   ],
   "source": [
    "# but what about noise? \n",
    "\n",
    "from inquanto.express import get_noisy_backend\n",
    "\n",
    "# conveniance method for simple noise model\n",
    "noisy_aer = get_noisy_backend(n_qubits=4, cx_err= 0.05, ro_err = 0.01)\n",
    "\n",
    "# instantiate an abstract measurement approach for quantities of this type\n",
    "protocol = PauliAveraging(\n",
    "   backend = noisy_aer, \n",
    "   shots_per_circuit=10000,\n",
    "   pauli_partition_strategy=PauliPartitionStrat.CommutingSets\n",
    ")\n",
    "\n",
    "protocol.build_from(h2_CA_params, expval) #or random_params\n",
    "\n",
    "protocol.run()\n",
    "\n",
    "protocol.evaluate_expectation_uvalue(CA_ansatz, ham.qubit_encode())\n",
    "# result is far from SV VQE due to noise"
   ]
  },
  {
   "cell_type": "markdown",
   "id": "653bdaac-bff4-4caf-bf11-7baa23de5427",
   "metadata": {},
   "source": [
    "## H series usage and Nexus management\n"
   ]
  },
  {
   "cell_type": "code",
   "execution_count": null,
   "id": "46f9d6b4",
   "metadata": {},
   "outputs": [],
   "source": [
    "# noise, circuit compilation (rebase)"
   ]
  },
  {
   "cell_type": "code",
   "execution_count": 56,
   "id": "bfc1e753-0279-4951-8292-a1574fc3781c",
   "metadata": {},
   "outputs": [
    {
     "name": "stdout",
     "output_type": "stream",
     "text": [
      "\n",
      "Started using project with name: InQuanto::Project\n"
     ]
    }
   ],
   "source": [
    "# use Nexus to store and manage calculations\n",
    "from pytket.extensions.nexus import Nexus, NexusBackend, QuantinuumConfig\n",
    "nexus_client = Nexus()\n",
    "nexus_client.login()\n",
    "\n",
    "project_name = \"InQuanto::Project\"  # +'_'+str(time.strftime(\"%Y%m%d-%H%M%S\"))\n",
    "reuse_project=True\n",
    "if reuse_project==True:\n",
    "    my_nexus_project = nexus_client.get_project_by_name(project_name)\n",
    "if reuse_project==False:\n",
    "    my_nexus_project= nexus_client.new_project(project_name)\n",
    "\n",
    "file_name = f\"{my_nexus_project}-1A.json\"\n",
    "\n",
    "q_config = QuantinuumConfig(device_name='H1-1LE') #'LE' is noiseless local emulator\n",
    "\n",
    "#could also be a pytket IBMQBackend or a Nexus IBMQConfig to target superconducting \n",
    "\n",
    "q_backend = NexusBackend(q_config, my_nexus_project)"
   ]
  },
  {
   "cell_type": "code",
   "execution_count": 57,
   "id": "247347cb-3161-44d3-b2fa-e3c2483f50b3",
   "metadata": {},
   "outputs": [
    {
     "name": "stdout",
     "output_type": "stream",
     "text": [
      "\n",
      "/opt/conda/lib/python3.10/site-packages/inquanto/protocols/averaging/_mitigation.pye:213: UserWarning: The PMSV is still experimental.\n",
      "  bJ'n`NF.>n[5[&0h)B:8:C,H`3Y5F_Q[i0H\n",
      "\n"
     ]
    }
   ],
   "source": [
    "protocol = PauliAveraging(\n",
    "   backend = q_backend, \n",
    "   shots_per_circuit=1000,\n",
    "   pauli_partition_strategy=PauliPartitionStrat.CommutingSets\n",
    ")\n",
    "\n",
    "from inquanto.spaces import QubitSpace\n",
    "from inquanto.mappings import QubitMappingJordanWigner\n",
    "stabilizers = QubitSpace(fock_space.n_orb * 2).symmetry_operators_z2_in_sector(\n",
    "    ham.qubit_encode(), QubitMappingJordanWigner.state_map(fock_state)\n",
    ")\n",
    "\n",
    "# error mitigation tools\n",
    "from inquanto.protocols import PMSV # also, SPAM and Qermit methods\n",
    "pmsv = PMSV(stabilizers)\n",
    "\n",
    "# Here we compile measurement circuits that can run on the H1-1 device using Nexus. \n",
    "# The circuit results can be used to give the expectation value of the Hamiltonian on \n",
    "# the ansatz state with optimized parameters, and discarding shots that violate symmetries \n",
    "# due to noise\n",
    "\n",
    "protocol.build(h2_CA_params, CA_ansatz, ham.qubit_encode(), noise_mitigation=pmsv)\n",
    "\n",
    "qhandles_pmsv=protocol.launch()\n",
    "# go to nexus.quantinuum.com"
   ]
  },
  {
   "cell_type": "code",
   "execution_count": 58,
   "id": "e2d07949-55a8-4944-af77-d0597da6bcfe",
   "metadata": {},
   "outputs": [
    {
     "data": {
      "text/html": [
       "\n",
       "\n",
       "\n",
       "\n",
       "\n",
       "\n",
       "<div style=\"resize: vertical; overflow: auto; height: 400px; display: block\">\n",
       "    <iframe srcdoc=\"\n",
       "&lt;!DOCTYPE html&gt;\n",
       "&lt;html lang=&#34;en&#34;&gt;\n",
       "&lt;head&gt;\n",
       "    &lt;meta charset=&#34;UTF-8&#34;&gt;\n",
       "    &lt;!-- Download Vue 3--&gt;\n",
       "&lt;script type=&#34;application/javascript&#34; src=&#34;https://cdn.jsdelivr.net/npm/vue@3&#34;&gt;&lt;/script&gt;\n",
       "&lt;!-- Download Circuit Renderer with styles --&gt;\n",
       "&lt;script type=&#34;application/javascript&#34; src=&#34;https://unpkg.com/pytket-circuit-renderer@0.7/dist/pytket-circuit-renderer.umd.js&#34;&gt;&lt;/script&gt;\n",
       "&lt;link rel=&#34;stylesheet&#34; href=&#34;https://unpkg.com/pytket-circuit-renderer@0.7/dist/pytket-circuit-renderer.css&#34;&gt;\n",
       "&lt;/head&gt;\n",
       "&lt;body&gt;\n",
       "\n",
       "\n",
       "\n",
       "    &lt;div id=&#34;circuit-display-vue-container-68276c7b-270a-47c3-bb56-cbe69f15aceb&#34; class=&#34;pytket-circuit-display-container&#34;&gt;\n",
       "        &lt;div style=&#34;display: none&#34;&gt;\n",
       "            &lt;div id=&#34;circuit-json-to-display&#34;&gt;{&#34;bits&#34;: [[&#34;c&#34;, [0]], [&#34;c&#34;, [1]], [&#34;c&#34;, [2]], [&#34;c&#34;, [3]]], &#34;commands&#34;: [{&#34;args&#34;: [[&#34;q&#34;, [0]]], &#34;op&#34;: {&#34;params&#34;: [&#34;-1.5&#34;, &#34;0&#34;], &#34;type&#34;: &#34;PhasedX&#34;}}, {&#34;args&#34;: [[&#34;q&#34;, [1]]], &#34;op&#34;: {&#34;params&#34;: [&#34;-1.5&#34;, &#34;-1.5&#34;], &#34;type&#34;: &#34;PhasedX&#34;}}, {&#34;args&#34;: [[&#34;q&#34;, [2]]], &#34;op&#34;: {&#34;params&#34;: [&#34;1/2&#34;, &#34;0&#34;], &#34;type&#34;: &#34;PhasedX&#34;}}, {&#34;args&#34;: [[&#34;q&#34;, [3]]], &#34;op&#34;: {&#34;params&#34;: [&#34;-1.5&#34;, &#34;-1.5&#34;], &#34;type&#34;: &#34;PhasedX&#34;}}, {&#34;args&#34;: [[&#34;q&#34;, [2]], [&#34;q&#34;, [0]]], &#34;op&#34;: {&#34;params&#34;: [&#34;0.5&#34;], &#34;type&#34;: &#34;ZZPhase&#34;}}, {&#34;args&#34;: [[&#34;q&#34;, [0]]], &#34;op&#34;: {&#34;params&#34;: [&#34;-1.97891393593162&#34;, &#34;-1/2&#34;], &#34;type&#34;: &#34;PhasedX&#34;}}, {&#34;args&#34;: [[&#34;q&#34;, [2]]], &#34;op&#34;: {&#34;params&#34;: [&#34;-1.97891393593162&#34;, &#34;-1/2&#34;], &#34;type&#34;: &#34;PhasedX&#34;}}, {&#34;args&#34;: [[&#34;q&#34;, [2]], [&#34;q&#34;, [0]]], &#34;op&#34;: {&#34;params&#34;: [&#34;0.5&#34;], &#34;type&#34;: &#34;ZZPhase&#34;}}, {&#34;args&#34;: [[&#34;q&#34;, [0]]], &#34;op&#34;: {&#34;params&#34;: [&#34;-0.5&#34;, &#34;0&#34;], &#34;type&#34;: &#34;PhasedX&#34;}}, {&#34;args&#34;: [[&#34;q&#34;, [2]]], &#34;op&#34;: {&#34;params&#34;: [&#34;-1.5&#34;, &#34;0&#34;], &#34;type&#34;: &#34;PhasedX&#34;}}, {&#34;args&#34;: [[&#34;q&#34;, [0]], [&#34;q&#34;, [1]]], &#34;op&#34;: {&#34;params&#34;: [&#34;0.5&#34;], &#34;type&#34;: &#34;ZZPhase&#34;}}, {&#34;args&#34;: [[&#34;q&#34;, [2]], [&#34;q&#34;, [3]]], &#34;op&#34;: {&#34;params&#34;: [&#34;0.5&#34;], &#34;type&#34;: &#34;ZZPhase&#34;}}, {&#34;args&#34;: [[&#34;q&#34;, [0]]], &#34;op&#34;: {&#34;params&#34;: [&#34;1/2&#34;, &#34;-5/2&#34;], &#34;type&#34;: &#34;PhasedX&#34;}}, {&#34;args&#34;: [[&#34;q&#34;, [1]]], &#34;op&#34;: {&#34;params&#34;: [&#34;1/2&#34;, &#34;0&#34;], &#34;type&#34;: &#34;PhasedX&#34;}}, {&#34;args&#34;: [[&#34;q&#34;, [2]]], &#34;op&#34;: {&#34;params&#34;: [&#34;1&#34;, &#34;-3/2&#34;], &#34;type&#34;: &#34;PhasedX&#34;}}, {&#34;args&#34;: [[&#34;q&#34;, [3]]], &#34;op&#34;: {&#34;params&#34;: [&#34;3/2&#34;, &#34;0&#34;], &#34;type&#34;: &#34;PhasedX&#34;}}, {&#34;args&#34;: [[&#34;q&#34;, [1]], [&#34;q&#34;, [2]]], &#34;op&#34;: {&#34;params&#34;: [&#34;0.5&#34;], &#34;type&#34;: &#34;ZZPhase&#34;}}, {&#34;args&#34;: [[&#34;q&#34;, [2]]], &#34;op&#34;: {&#34;params&#34;: [&#34;0.5&#34;, &#34;0&#34;], &#34;type&#34;: &#34;PhasedX&#34;}}, {&#34;args&#34;: [[&#34;q&#34;, [2]], [&#34;q&#34;, [0]]], &#34;op&#34;: {&#34;params&#34;: [&#34;0.5&#34;], &#34;type&#34;: &#34;ZZPhase&#34;}}, {&#34;args&#34;: [[&#34;q&#34;, [0]]], &#34;op&#34;: {&#34;params&#34;: [&#34;-0.00375729046194749&#34;, &#34;0&#34;], &#34;type&#34;: &#34;PhasedX&#34;}}, {&#34;args&#34;: [[&#34;q&#34;, [2]]], &#34;op&#34;: {&#34;params&#34;: [&#34;-0.00375729046194719&#34;, &#34;-3/2&#34;], &#34;type&#34;: &#34;PhasedX&#34;}}, {&#34;args&#34;: [[&#34;q&#34;, [2]], [&#34;q&#34;, [0]]], &#34;op&#34;: {&#34;params&#34;: [&#34;0.5&#34;], &#34;type&#34;: &#34;ZZPhase&#34;}}, {&#34;args&#34;: [[&#34;q&#34;, [0]]], &#34;op&#34;: {&#34;params&#34;: [&#34;-1.5&#34;, &#34;-1/2&#34;], &#34;type&#34;: &#34;PhasedX&#34;}}, {&#34;args&#34;: [[&#34;q&#34;, [2]]], &#34;op&#34;: {&#34;params&#34;: [&#34;-1.5&#34;, &#34;0&#34;], &#34;type&#34;: &#34;PhasedX&#34;}}, {&#34;args&#34;: [[&#34;q&#34;, [1]], [&#34;q&#34;, [2]]], &#34;op&#34;: {&#34;params&#34;: [&#34;0.5&#34;], &#34;type&#34;: &#34;ZZPhase&#34;}}, {&#34;args&#34;: [[&#34;q&#34;, [1]]], &#34;op&#34;: {&#34;params&#34;: [&#34;1/2&#34;, &#34;-3/2&#34;], &#34;type&#34;: &#34;PhasedX&#34;}}, {&#34;args&#34;: [[&#34;q&#34;, [2]]], &#34;op&#34;: {&#34;params&#34;: [&#34;1&#34;, &#34;-0.5&#34;], &#34;type&#34;: &#34;PhasedX&#34;}}, {&#34;args&#34;: [[&#34;q&#34;, [2]], [&#34;q&#34;, [3]]], &#34;op&#34;: {&#34;params&#34;: [&#34;0.5&#34;], &#34;type&#34;: &#34;ZZPhase&#34;}}, {&#34;args&#34;: [[&#34;q&#34;, [3]]], &#34;op&#34;: {&#34;params&#34;: [&#34;-0.5&#34;, &#34;0&#34;], &#34;type&#34;: &#34;PhasedX&#34;}}, {&#34;args&#34;: [[&#34;q&#34;, [3]], [&#34;q&#34;, [1]]], &#34;op&#34;: {&#34;params&#34;: [&#34;0.5&#34;], &#34;type&#34;: &#34;ZZPhase&#34;}}, {&#34;args&#34;: [[&#34;q&#34;, [1]]], &#34;op&#34;: {&#34;params&#34;: [&#34;0.00375729046194759&#34;, &#34;0&#34;], &#34;type&#34;: &#34;PhasedX&#34;}}, {&#34;args&#34;: [[&#34;q&#34;, [3]]], &#34;op&#34;: {&#34;params&#34;: [&#34;-0.00375729046194719&#34;, &#34;-5/2&#34;], &#34;type&#34;: &#34;PhasedX&#34;}}, {&#34;args&#34;: [[&#34;q&#34;, [3]], [&#34;q&#34;, [1]]], &#34;op&#34;: {&#34;params&#34;: [&#34;0.5&#34;], &#34;type&#34;: &#34;ZZPhase&#34;}}, {&#34;args&#34;: [[&#34;q&#34;, [1]]], &#34;op&#34;: {&#34;params&#34;: [&#34;0.5&#34;, &#34;0.5&#34;], &#34;type&#34;: &#34;PhasedX&#34;}}, {&#34;args&#34;: [[&#34;q&#34;, [3]]], &#34;op&#34;: {&#34;params&#34;: [&#34;-1.5&#34;, &#34;-5.0&#34;], &#34;type&#34;: &#34;PhasedX&#34;}}, {&#34;args&#34;: [[&#34;q&#34;, [1]], [&#34;c&#34;, [1]]], &#34;op&#34;: {&#34;type&#34;: &#34;Measure&#34;}}, {&#34;args&#34;: [[&#34;q&#34;, [2]], [&#34;q&#34;, [3]]], &#34;op&#34;: {&#34;params&#34;: [&#34;0.5&#34;], &#34;type&#34;: &#34;ZZPhase&#34;}}, {&#34;args&#34;: [[&#34;q&#34;, [2]]], &#34;op&#34;: {&#34;params&#34;: [&#34;0.5&#34;, &#34;0&#34;], &#34;type&#34;: &#34;PhasedX&#34;}}, {&#34;args&#34;: [[&#34;q&#34;, [3]]], &#34;op&#34;: {&#34;params&#34;: [&#34;1&#34;, &#34;-6.5&#34;], &#34;type&#34;: &#34;PhasedX&#34;}}, {&#34;args&#34;: [[&#34;q&#34;, [3]], [&#34;c&#34;, [3]]], &#34;op&#34;: {&#34;type&#34;: &#34;Measure&#34;}}, {&#34;args&#34;: [[&#34;q&#34;, [0]], [&#34;q&#34;, [2]]], &#34;op&#34;: {&#34;params&#34;: [&#34;0.5&#34;], &#34;type&#34;: &#34;ZZPhase&#34;}}, {&#34;args&#34;: [[&#34;q&#34;, [0]]], &#34;op&#34;: {&#34;params&#34;: [&#34;1/2&#34;, &#34;-3/2&#34;], &#34;type&#34;: &#34;PhasedX&#34;}}, {&#34;args&#34;: [[&#34;q&#34;, [2]]], &#34;op&#34;: {&#34;params&#34;: [&#34;1/2&#34;, &#34;-1/2&#34;], &#34;type&#34;: &#34;PhasedX&#34;}}, {&#34;args&#34;: [[&#34;q&#34;, [0]], [&#34;c&#34;, [0]]], &#34;op&#34;: {&#34;type&#34;: &#34;Measure&#34;}}, {&#34;args&#34;: [[&#34;q&#34;, [2]], [&#34;c&#34;, [2]]], &#34;op&#34;: {&#34;type&#34;: &#34;Measure&#34;}}], &#34;created_qubits&#34;: [], &#34;discarded_qubits&#34;: [], &#34;implicit_permutation&#34;: [[[&#34;q&#34;, [0]], [&#34;q&#34;, [0]]], [[&#34;q&#34;, [1]], [&#34;q&#34;, [1]]], [[&#34;q&#34;, [2]], [&#34;q&#34;, [2]]], [[&#34;q&#34;, [3]], [&#34;q&#34;, [3]]]], &#34;name&#34;: &#34;GBSTGNRSMQ3GK,0-QuantinuumBackend-final&#34;, &#34;phase&#34;: &#34;1.25&#34;, &#34;qubits&#34;: [[&#34;q&#34;, [0]], [&#34;q&#34;, [1]], [&#34;q&#34;, [2]], [&#34;q&#34;, [3]]]}&lt;/div&gt;\n",
       "        &lt;/div&gt;\n",
       "        &lt;circuit-display-container\n",
       "                :circuit-element-str=&#34;&#39;#circuit-json-to-display&#39;&#34;\n",
       "                :init-render-options=&#34;initRenderOptions&#34;\n",
       "        &gt;&lt;/circuit-display-container&gt;\n",
       "    &lt;/div&gt;\n",
       "    &lt;script type=&#34;application/javascript&#34;&gt;\n",
       "      const circuitRendererUid = &#34;68276c7b-270a-47c3-bb56-cbe69f15aceb&#34;;\n",
       "      const displayOptions = JSON.parse(&#39;{}&#39;);\n",
       "\n",
       "      // Script to initialise the circuit renderer app\n",
       "\n",
       "const { createApp } = Vue;\n",
       "const circuitDisplayContainer = window[&#34;pytket-circuit-renderer&#34;].default;\n",
       "// Init variables to be shared between circuit display instances\n",
       "if (typeof window.pytketCircuitDisplays === &#34;undefined&#34;) {\n",
       "    window.pytketCircuitDisplays = {};\n",
       "}\n",
       "// Create the root Vue component\n",
       "const app = createApp({\n",
       "    delimiters: [&#39;[[#&#39;, &#39;#]]&#39;],\n",
       "    components: { circuitDisplayContainer },\n",
       "    data () {\n",
       "      return {\n",
       "        initRenderOptions: displayOptions,\n",
       "      }\n",
       "    }\n",
       "})\n",
       "app.config.unwrapInjectedRef = true;\n",
       "app.mount(&#34;#circuit-display-vue-container-&#34;+circuitRendererUid);\n",
       "window.pytketCircuitDisplays[circuitRendererUid] = app;\n",
       "    &lt;/script&gt;\n",
       "\n",
       "\n",
       "\n",
       "&lt;/body&gt;\n",
       "&lt;/html&gt;\n",
       "\"\n",
       "            width=\"100%\" height=\"100%\"\n",
       "            style=\"border: none; outline: none; overflow: auto\"></iframe>\n",
       "</div>\n",
       "\n"
      ],
      "text/plain": [
       "<IPython.core.display.HTML object>"
      ]
     },
     "metadata": {},
     "output_type": "display_data"
    }
   ],
   "source": [
    "render_circuit_jupyter(protocol.get_circuits()[0])"
   ]
  },
  {
   "cell_type": "code",
   "execution_count": 60,
   "id": "43c2791d-1d61-4647-8e09-d9044609c656",
   "metadata": {},
   "outputs": [
    {
     "data": {
      "text/plain": [
       "-2.8484835242020816+/-0.007173161443587155"
      ]
     },
     "execution_count": 60,
     "metadata": {},
     "output_type": "execute_result"
    }
   ],
   "source": [
    "protocol.retrieve(qhandles_pmsv)\n",
    "\n",
    "protocol.evaluate_expectation_uvalue(CA_ansatz, ham.qubit_encode())"
   ]
  },
  {
   "cell_type": "code",
   "execution_count": 61,
   "id": "1a0e7048-61c0-48ff-a863-5ae8beea814f",
   "metadata": {},
   "outputs": [
    {
     "name": "stdout",
     "output_type": "stream",
     "text": [
      "[ResultHandle('fb8abb5f-146a-4af7-bd74-8e8b67a5bd5b', 2888845), ResultHandle('fb8abb5f-146a-4af7-bd74-8e8b67a5bd5b', 2888846), ResultHandle('fb8abb5f-146a-4af7-bd74-8e8b67a5bd5b', 2888847)]\n"
     ]
    }
   ],
   "source": [
    "print(qhandles_pmsv)"
   ]
  },
  {
   "cell_type": "markdown",
   "id": "f5fb8c60-8fef-41f9-bb3a-c606fc6171c1",
   "metadata": {},
   "source": [
    "- There are many ways to efficiently evaluate quantum chemical quantities with the computables and protocols structure and they have a lot of flexibility, useability, and efficiency built in\n",
    "- Many different ansatz classes and tools to bring your ansatz\n",
    "- Symmetry tools (tapering)\n",
    "- Aim to support asynchronous workflows "
   ]
  },
  {
   "cell_type": "markdown",
   "id": "1721dd3c-1a7e-4b8f-8e1e-29af130f0394",
   "metadata": {},
   "source": [
    "## DEMO 4 - Quantum computing, algorithms, or quantum information researchers"
   ]
  },
  {
   "cell_type": "markdown",
   "id": "eb6baa16-b8be-49cd-a97b-1583b3f991db",
   "metadata": {},
   "source": [
    "- Can construct a manual pytket circuit and use as an ansatz\n",
    "- Concatenate unitaries\n",
    "- Apply passes\n",
    "- Build your own mappings"
   ]
  },
  {
   "cell_type": "code",
   "execution_count": 64,
   "id": "91c1a182-b105-4615-9d61-73ece19679eb",
   "metadata": {},
   "outputs": [],
   "source": [
    "from inquanto.ansatzes import CircuitAnsatz"
   ]
  },
  {
   "cell_type": "code",
   "execution_count": 65,
   "id": "18544f6b-20e1-4629-a6d6-19c8dc7f25eb",
   "metadata": {},
   "outputs": [],
   "source": [
    "from pytket import Circuit, OpType\n",
    "\n",
    "c = Circuit(4,2) # Create a circuit with 4 qubits and 2 classical bits\n",
    "c.H(0) # Apply a gate to qubit 0\n",
    "c.Rx(0.5,1) # Angles of rotation are expressed in half-turns (i.e. 0.5 means PI/2)\n",
    "\n",
    "custom_ansatz = CircuitAnsatz(c)\n",
    "\n",
    "#q_backend.default_compilation_pass(optimisation_level=0)\n",
    "\n",
    "from pytket.passes import SequencePass, RemoveRedundancies, DecomposeMultiQubitsCX\n",
    "seqpass = SequencePass([DecomposeMultiQubitsCX(), RemoveRedundancies()])\n",
    "\n",
    "# using CA ansatz from before\n",
    "recompiled_circ = CA_ansatz.to_CircuitAnsatz(compiler_pass=seqpass)\n",
    "#can append circuits"
   ]
  },
  {
   "cell_type": "code",
   "execution_count": 66,
   "id": "a67ad009-baf7-4ac0-b8c2-8829588ba7bd",
   "metadata": {},
   "outputs": [
    {
     "data": {
      "text/plain": [
       "<inquanto.ansatzes._circuit_ansatz.CircuitAnsatz, qubits=4, gates=99, symbols=3>"
      ]
     },
     "execution_count": 66,
     "metadata": {},
     "output_type": "execute_result"
    }
   ],
   "source": [
    "recompiled_circ"
   ]
  },
  {
   "cell_type": "code",
   "execution_count": 67,
   "id": "860c05e6-79a8-49a4-9568-91282ee13bf9",
   "metadata": {},
   "outputs": [
    {
     "data": {
      "text/html": [
       "\n",
       "\n",
       "\n",
       "\n",
       "\n",
       "\n",
       "<div style=\"resize: vertical; overflow: auto; height: 400px; display: block\">\n",
       "    <iframe srcdoc=\"\n",
       "&lt;!DOCTYPE html&gt;\n",
       "&lt;html lang=&#34;en&#34;&gt;\n",
       "&lt;head&gt;\n",
       "    &lt;meta charset=&#34;UTF-8&#34;&gt;\n",
       "    &lt;!-- Download Vue 3--&gt;\n",
       "&lt;script type=&#34;application/javascript&#34; src=&#34;https://cdn.jsdelivr.net/npm/vue@3&#34;&gt;&lt;/script&gt;\n",
       "&lt;!-- Download Circuit Renderer with styles --&gt;\n",
       "&lt;script type=&#34;application/javascript&#34; src=&#34;https://unpkg.com/pytket-circuit-renderer@0.7/dist/pytket-circuit-renderer.umd.js&#34;&gt;&lt;/script&gt;\n",
       "&lt;link rel=&#34;stylesheet&#34; href=&#34;https://unpkg.com/pytket-circuit-renderer@0.7/dist/pytket-circuit-renderer.css&#34;&gt;\n",
       "&lt;/head&gt;\n",
       "&lt;body&gt;\n",
       "\n",
       "\n",
       "\n",
       "    &lt;div id=&#34;circuit-display-vue-container-7ea73a02-442d-46cc-819e-44999d1d4a94&#34; class=&#34;pytket-circuit-display-container&#34;&gt;\n",
       "        &lt;div style=&#34;display: none&#34;&gt;\n",
       "            &lt;div id=&#34;circuit-json-to-display&#34;&gt;{&#34;bits&#34;: [], &#34;commands&#34;: [{&#34;args&#34;: [[&#34;q&#34;, [0]]], &#34;op&#34;: {&#34;type&#34;: &#34;X&#34;}}, {&#34;args&#34;: [[&#34;q&#34;, [1]]], &#34;op&#34;: {&#34;type&#34;: &#34;S&#34;}}, {&#34;args&#34;: [[&#34;q&#34;, [2]]], &#34;op&#34;: {&#34;type&#34;: &#34;V&#34;}}, {&#34;args&#34;: [[&#34;q&#34;, [3]]], &#34;op&#34;: {&#34;type&#34;: &#34;S&#34;}}, {&#34;args&#34;: [[&#34;q&#34;, [0]]], &#34;op&#34;: {&#34;type&#34;: &#34;Sdg&#34;}}, {&#34;args&#34;: [[&#34;q&#34;, [1]]], &#34;op&#34;: {&#34;type&#34;: &#34;H&#34;}}, {&#34;args&#34;: [[&#34;q&#34;, [3]]], &#34;op&#34;: {&#34;type&#34;: &#34;H&#34;}}, {&#34;args&#34;: [[&#34;q&#34;, [0]]], &#34;op&#34;: {&#34;type&#34;: &#34;Vdg&#34;}}, {&#34;args&#34;: [[&#34;q&#34;, [1]]], &#34;op&#34;: {&#34;type&#34;: &#34;S&#34;}}, {&#34;args&#34;: [[&#34;q&#34;, [3]]], &#34;op&#34;: {&#34;type&#34;: &#34;S&#34;}}, {&#34;args&#34;: [[&#34;q&#34;, [2]], [&#34;q&#34;, [0]]], &#34;op&#34;: {&#34;type&#34;: &#34;CX&#34;}}, {&#34;args&#34;: [[&#34;q&#34;, [1]]], &#34;op&#34;: {&#34;type&#34;: &#34;V&#34;}}, {&#34;args&#34;: [[&#34;q&#34;, [3]]], &#34;op&#34;: {&#34;type&#34;: &#34;V&#34;}}, {&#34;args&#34;: [[&#34;q&#34;, [0]]], &#34;op&#34;: {&#34;params&#34;: [&#34;1.0*d0/pi&#34;], &#34;type&#34;: &#34;Rz&#34;}}, {&#34;args&#34;: [[&#34;q&#34;, [2]]], &#34;op&#34;: {&#34;type&#34;: &#34;H&#34;}}, {&#34;args&#34;: [[&#34;q&#34;, [2]]], &#34;op&#34;: {&#34;params&#34;: [&#34;-1.0*d0/pi&#34;], &#34;type&#34;: &#34;Rz&#34;}}, {&#34;args&#34;: [[&#34;q&#34;, [2]]], &#34;op&#34;: {&#34;type&#34;: &#34;H&#34;}}, {&#34;args&#34;: [[&#34;q&#34;, [2]], [&#34;q&#34;, [0]]], &#34;op&#34;: {&#34;type&#34;: &#34;CX&#34;}}, {&#34;args&#34;: [[&#34;q&#34;, [0]]], &#34;op&#34;: {&#34;type&#34;: &#34;V&#34;}}, {&#34;args&#34;: [[&#34;q&#34;, [2]]], &#34;op&#34;: {&#34;type&#34;: &#34;Vdg&#34;}}, {&#34;args&#34;: [[&#34;q&#34;, [0]]], &#34;op&#34;: {&#34;type&#34;: &#34;S&#34;}}, {&#34;args&#34;: [[&#34;q&#34;, [2]]], &#34;op&#34;: {&#34;type&#34;: &#34;S&#34;}}, {&#34;args&#34;: [[&#34;q&#34;, [0]]], &#34;op&#34;: {&#34;type&#34;: &#34;S&#34;}}, {&#34;args&#34;: [[&#34;q&#34;, [2]]], &#34;op&#34;: {&#34;type&#34;: &#34;H&#34;}}, {&#34;args&#34;: [[&#34;q&#34;, [0]]], &#34;op&#34;: {&#34;type&#34;: &#34;H&#34;}}, {&#34;args&#34;: [[&#34;q&#34;, [2]]], &#34;op&#34;: {&#34;type&#34;: &#34;S&#34;}}, {&#34;args&#34;: [[&#34;q&#34;, [0]]], &#34;op&#34;: {&#34;type&#34;: &#34;S&#34;}}, {&#34;args&#34;: [[&#34;q&#34;, [2]]], &#34;op&#34;: {&#34;type&#34;: &#34;V&#34;}}, {&#34;args&#34;: [[&#34;q&#34;, [0]]], &#34;op&#34;: {&#34;type&#34;: &#34;V&#34;}}, {&#34;args&#34;: [[&#34;q&#34;, [2]], [&#34;q&#34;, [3]]], &#34;op&#34;: {&#34;type&#34;: &#34;CX&#34;}}, {&#34;args&#34;: [[&#34;q&#34;, [0]], [&#34;q&#34;, [1]]], &#34;op&#34;: {&#34;type&#34;: &#34;CX&#34;}}, {&#34;args&#34;: [[&#34;q&#34;, [2]]], &#34;op&#34;: {&#34;type&#34;: &#34;V&#34;}}, {&#34;args&#34;: [[&#34;q&#34;, [3]]], &#34;op&#34;: {&#34;type&#34;: &#34;S&#34;}}, {&#34;args&#34;: [[&#34;q&#34;, [0]]], &#34;op&#34;: {&#34;type&#34;: &#34;Sdg&#34;}}, {&#34;args&#34;: [[&#34;q&#34;, [2]]], &#34;op&#34;: {&#34;type&#34;: &#34;S&#34;}}, {&#34;args&#34;: [[&#34;q&#34;, [3]]], &#34;op&#34;: {&#34;type&#34;: &#34;H&#34;}}, {&#34;args&#34;: [[&#34;q&#34;, [0]]], &#34;op&#34;: {&#34;type&#34;: &#34;Vdg&#34;}}, {&#34;args&#34;: [[&#34;q&#34;, [1]], [&#34;q&#34;, [2]]], &#34;op&#34;: {&#34;type&#34;: &#34;CX&#34;}}, {&#34;args&#34;: [[&#34;q&#34;, [3]]], &#34;op&#34;: {&#34;type&#34;: &#34;S&#34;}}, {&#34;args&#34;: [[&#34;q&#34;, [2]]], &#34;op&#34;: {&#34;type&#34;: &#34;Sdg&#34;}}, {&#34;args&#34;: [[&#34;q&#34;, [3]]], &#34;op&#34;: {&#34;type&#34;: &#34;V&#34;}}, {&#34;args&#34;: [[&#34;q&#34;, [2]], [&#34;q&#34;, [0]]], &#34;op&#34;: {&#34;type&#34;: &#34;CX&#34;}}, {&#34;args&#34;: [[&#34;q&#34;, [3]]], &#34;op&#34;: {&#34;type&#34;: &#34;V&#34;}}, {&#34;args&#34;: [[&#34;q&#34;, [0]]], &#34;op&#34;: {&#34;params&#34;: [&#34;1.0*s0/pi&#34;], &#34;type&#34;: &#34;Rz&#34;}}, {&#34;args&#34;: [[&#34;q&#34;, [2]]], &#34;op&#34;: {&#34;type&#34;: &#34;H&#34;}}, {&#34;args&#34;: [[&#34;q&#34;, [3]]], &#34;op&#34;: {&#34;type&#34;: &#34;S&#34;}}, {&#34;args&#34;: [[&#34;q&#34;, [2]]], &#34;op&#34;: {&#34;params&#34;: [&#34;-1.0*s0/pi&#34;], &#34;type&#34;: &#34;Rz&#34;}}, {&#34;args&#34;: [[&#34;q&#34;, [2]]], &#34;op&#34;: {&#34;type&#34;: &#34;H&#34;}}, {&#34;args&#34;: [[&#34;q&#34;, [2]], [&#34;q&#34;, [0]]], &#34;op&#34;: {&#34;type&#34;: &#34;CX&#34;}}, {&#34;args&#34;: [[&#34;q&#34;, [0]]], &#34;op&#34;: {&#34;type&#34;: &#34;V&#34;}}, {&#34;args&#34;: [[&#34;q&#34;, [2]]], &#34;op&#34;: {&#34;type&#34;: &#34;S&#34;}}, {&#34;args&#34;: [[&#34;q&#34;, [0]]], &#34;op&#34;: {&#34;type&#34;: &#34;S&#34;}}, {&#34;args&#34;: [[&#34;q&#34;, [1]], [&#34;q&#34;, [2]]], &#34;op&#34;: {&#34;type&#34;: &#34;CX&#34;}}, {&#34;args&#34;: [[&#34;q&#34;, [0]]], &#34;op&#34;: {&#34;type&#34;: &#34;S&#34;}}, {&#34;args&#34;: [[&#34;q&#34;, [1]]], &#34;op&#34;: {&#34;type&#34;: &#34;S&#34;}}, {&#34;args&#34;: [[&#34;q&#34;, [2]]], &#34;op&#34;: {&#34;type&#34;: &#34;Sdg&#34;}}, {&#34;args&#34;: [[&#34;q&#34;, [0]]], &#34;op&#34;: {&#34;type&#34;: &#34;H&#34;}}, {&#34;args&#34;: [[&#34;q&#34;, [1]]], &#34;op&#34;: {&#34;type&#34;: &#34;H&#34;}}, {&#34;args&#34;: [[&#34;q&#34;, [2]]], &#34;op&#34;: {&#34;type&#34;: &#34;Vdg&#34;}}, {&#34;args&#34;: [[&#34;q&#34;, [0]]], &#34;op&#34;: {&#34;type&#34;: &#34;S&#34;}}, {&#34;args&#34;: [[&#34;q&#34;, [1]]], &#34;op&#34;: {&#34;type&#34;: &#34;S&#34;}}, {&#34;args&#34;: [[&#34;q&#34;, [2]]], &#34;op&#34;: {&#34;type&#34;: &#34;S&#34;}}, {&#34;args&#34;: [[&#34;q&#34;, [0]]], &#34;op&#34;: {&#34;type&#34;: &#34;V&#34;}}, {&#34;args&#34;: [[&#34;q&#34;, [1]]], &#34;op&#34;: {&#34;type&#34;: &#34;V&#34;}}, {&#34;args&#34;: [[&#34;q&#34;, [2]]], &#34;op&#34;: {&#34;type&#34;: &#34;H&#34;}}, {&#34;args&#34;: [[&#34;q&#34;, [0]]], &#34;op&#34;: {&#34;type&#34;: &#34;S&#34;}}, {&#34;args&#34;: [[&#34;q&#34;, [1]]], &#34;op&#34;: {&#34;type&#34;: &#34;Sdg&#34;}}, {&#34;args&#34;: [[&#34;q&#34;, [2]]], &#34;op&#34;: {&#34;type&#34;: &#34;S&#34;}}, {&#34;args&#34;: [[&#34;q&#34;, [0]]], &#34;op&#34;: {&#34;type&#34;: &#34;H&#34;}}, {&#34;args&#34;: [[&#34;q&#34;, [1]]], &#34;op&#34;: {&#34;type&#34;: &#34;Vdg&#34;}}, {&#34;args&#34;: [[&#34;q&#34;, [2]]], &#34;op&#34;: {&#34;type&#34;: &#34;V&#34;}}, {&#34;args&#34;: [[&#34;q&#34;, [0]]], &#34;op&#34;: {&#34;type&#34;: &#34;S&#34;}}, {&#34;args&#34;: [[&#34;q&#34;, [2]], [&#34;q&#34;, [3]]], &#34;op&#34;: {&#34;type&#34;: &#34;CX&#34;}}, {&#34;args&#34;: [[&#34;q&#34;, [0]]], &#34;op&#34;: {&#34;type&#34;: &#34;V&#34;}}, {&#34;args&#34;: [[&#34;q&#34;, [3]]], &#34;op&#34;: {&#34;type&#34;: &#34;Sdg&#34;}}, {&#34;args&#34;: [[&#34;q&#34;, [3]], [&#34;q&#34;, [1]]], &#34;op&#34;: {&#34;type&#34;: &#34;CX&#34;}}, {&#34;args&#34;: [[&#34;q&#34;, [1]]], &#34;op&#34;: {&#34;params&#34;: [&#34;1.0*s1/pi&#34;], &#34;type&#34;: &#34;Rz&#34;}}, {&#34;args&#34;: [[&#34;q&#34;, [3]]], &#34;op&#34;: {&#34;type&#34;: &#34;H&#34;}}, {&#34;args&#34;: [[&#34;q&#34;, [3]]], &#34;op&#34;: {&#34;params&#34;: [&#34;-1.0*s1/pi&#34;], &#34;type&#34;: &#34;Rz&#34;}}, {&#34;args&#34;: [[&#34;q&#34;, [3]]], &#34;op&#34;: {&#34;type&#34;: &#34;H&#34;}}, {&#34;args&#34;: [[&#34;q&#34;, [3]], [&#34;q&#34;, [1]]], &#34;op&#34;: {&#34;type&#34;: &#34;CX&#34;}}, {&#34;args&#34;: [[&#34;q&#34;, [1]]], &#34;op&#34;: {&#34;type&#34;: &#34;V&#34;}}, {&#34;args&#34;: [[&#34;q&#34;, [3]]], &#34;op&#34;: {&#34;type&#34;: &#34;S&#34;}}, {&#34;args&#34;: [[&#34;q&#34;, [1]]], &#34;op&#34;: {&#34;type&#34;: &#34;S&#34;}}, {&#34;args&#34;: [[&#34;q&#34;, [2]], [&#34;q&#34;, [3]]], &#34;op&#34;: {&#34;type&#34;: &#34;CX&#34;}}, {&#34;args&#34;: [[&#34;q&#34;, [1]]], &#34;op&#34;: {&#34;type&#34;: &#34;S&#34;}}, {&#34;args&#34;: [[&#34;q&#34;, [2]]], &#34;op&#34;: {&#34;type&#34;: &#34;S&#34;}}, {&#34;args&#34;: [[&#34;q&#34;, [3]]], &#34;op&#34;: {&#34;type&#34;: &#34;Sdg&#34;}}, {&#34;args&#34;: [[&#34;q&#34;, [1]]], &#34;op&#34;: {&#34;type&#34;: &#34;H&#34;}}, {&#34;args&#34;: [[&#34;q&#34;, [2]]], &#34;op&#34;: {&#34;type&#34;: &#34;H&#34;}}, {&#34;args&#34;: [[&#34;q&#34;, [3]]], &#34;op&#34;: {&#34;type&#34;: &#34;Vdg&#34;}}, {&#34;args&#34;: [[&#34;q&#34;, [1]]], &#34;op&#34;: {&#34;type&#34;: &#34;S&#34;}}, {&#34;args&#34;: [[&#34;q&#34;, [2]]], &#34;op&#34;: {&#34;type&#34;: &#34;S&#34;}}, {&#34;args&#34;: [[&#34;q&#34;, [3]]], &#34;op&#34;: {&#34;type&#34;: &#34;S&#34;}}, {&#34;args&#34;: [[&#34;q&#34;, [1]]], &#34;op&#34;: {&#34;type&#34;: &#34;V&#34;}}, {&#34;args&#34;: [[&#34;q&#34;, [2]]], &#34;op&#34;: {&#34;type&#34;: &#34;V&#34;}}, {&#34;args&#34;: [[&#34;q&#34;, [3]]], &#34;op&#34;: {&#34;type&#34;: &#34;H&#34;}}, {&#34;args&#34;: [[&#34;q&#34;, [3]]], &#34;op&#34;: {&#34;type&#34;: &#34;S&#34;}}, {&#34;args&#34;: [[&#34;q&#34;, [3]]], &#34;op&#34;: {&#34;type&#34;: &#34;V&#34;}}], &#34;created_qubits&#34;: [], &#34;discarded_qubits&#34;: [], &#34;implicit_permutation&#34;: [[[&#34;q&#34;, [0]], [&#34;q&#34;, [0]]], [[&#34;q&#34;, [1]], [&#34;q&#34;, [1]]], [[&#34;q&#34;, [2]], [&#34;q&#34;, [2]]], [[&#34;q&#34;, [3]], [&#34;q&#34;, [3]]]], &#34;phase&#34;: &#34;0.0&#34;, &#34;qubits&#34;: [[&#34;q&#34;, [0]], [&#34;q&#34;, [1]], [&#34;q&#34;, [2]], [&#34;q&#34;, [3]]]}&lt;/div&gt;\n",
       "        &lt;/div&gt;\n",
       "        &lt;circuit-display-container\n",
       "                :circuit-element-str=&#34;&#39;#circuit-json-to-display&#39;&#34;\n",
       "                :init-render-options=&#34;initRenderOptions&#34;\n",
       "        &gt;&lt;/circuit-display-container&gt;\n",
       "    &lt;/div&gt;\n",
       "    &lt;script type=&#34;application/javascript&#34;&gt;\n",
       "      const circuitRendererUid = &#34;7ea73a02-442d-46cc-819e-44999d1d4a94&#34;;\n",
       "      const displayOptions = JSON.parse(&#39;{}&#39;);\n",
       "\n",
       "      // Script to initialise the circuit renderer app\n",
       "\n",
       "const { createApp } = Vue;\n",
       "const circuitDisplayContainer = window[&#34;pytket-circuit-renderer&#34;].default;\n",
       "// Init variables to be shared between circuit display instances\n",
       "if (typeof window.pytketCircuitDisplays === &#34;undefined&#34;) {\n",
       "    window.pytketCircuitDisplays = {};\n",
       "}\n",
       "// Create the root Vue component\n",
       "const app = createApp({\n",
       "    delimiters: [&#39;[[#&#39;, &#39;#]]&#39;],\n",
       "    components: { circuitDisplayContainer },\n",
       "    data () {\n",
       "      return {\n",
       "        initRenderOptions: displayOptions,\n",
       "      }\n",
       "    }\n",
       "})\n",
       "app.config.unwrapInjectedRef = true;\n",
       "app.mount(&#34;#circuit-display-vue-container-&#34;+circuitRendererUid);\n",
       "window.pytketCircuitDisplays[circuitRendererUid] = app;\n",
       "    &lt;/script&gt;\n",
       "\n",
       "\n",
       "\n",
       "&lt;/body&gt;\n",
       "&lt;/html&gt;\n",
       "\"\n",
       "            width=\"100%\" height=\"100%\"\n",
       "            style=\"border: none; outline: none; overflow: auto\"></iframe>\n",
       "</div>\n",
       "\n"
      ],
      "text/plain": [
       "<IPython.core.display.HTML object>"
      ]
     },
     "metadata": {},
     "output_type": "display_data"
    }
   ],
   "source": [
    "render_circuit_jupyter(recompiled_circ.state_circuit)"
   ]
  },
  {
   "cell_type": "code",
   "execution_count": 68,
   "id": "5abbbf7d-c6a5-4bb4-9931-26c2eb303ba7",
   "metadata": {},
   "outputs": [],
   "source": [
    "#from pytket.extensions.qiskit\n",
    "#from pytket.extensions.quantinuum\n",
    "#from pytket.extensions.cutensornet # TN\n",
    "#takes care of rebasing, routing.. "
   ]
  },
  {
   "cell_type": "markdown",
   "id": "0db7f902-9d6c-4cb1-8941-e18e3a9179d1",
   "metadata": {},
   "source": [
    "<div align=\"center\"> &copy; 2024 by Quantinuum. All Rights Reserved. </div>"
   ]
  }
 ],
 "metadata": {
  "kernelspec": {
   "display_name": "Python [conda env:base] *",
   "language": "python",
   "name": "conda-base-py"
  },
  "language_info": {
   "codemirror_mode": {
    "name": "ipython",
    "version": 3
   },
   "file_extension": ".py",
   "mimetype": "text/x-python",
   "name": "python",
   "nbconvert_exporter": "python",
   "pygments_lexer": "ipython3",
   "version": "3.10.11"
  }
 },
 "nbformat": 4,
 "nbformat_minor": 5
}
