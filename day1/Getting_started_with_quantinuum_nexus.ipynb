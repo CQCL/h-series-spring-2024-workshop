{
 "cells": [
  {
   "attachments": {},
   "cell_type": "markdown",
   "id": "637c2589",
   "metadata": {
    "nbsphinx": {
     "execute": "never"
    }
   },
   "source": [
    "# Quantinuum Nexus Quick Start\n"
   ]
  },
  {
   "cell_type": "markdown",
   "id": "14948c92",
   "metadata": {},
   "source": [
    "<div class=\"alert alert-block alert-info\"><b>NB:</b> Please follow the Quantinuum Nexus Instructions in the README.md before following along with this notebook.</div>"
   ]
  },
  {
   "cell_type": "markdown",
   "id": "b33d0004",
   "metadata": {},
   "source": [
    "## Welcome to the Quantinuum Nexus Lab! A hosted Jupyter environment with the pre-installed Python software packages you'll need, including:\n",
    "\n",
    "* [`pytket`](https://tket.quantinuum.com/api-docs/index.html): Quantinuum's Python SDK for TKET quantum programming tools.\n",
    "* `pytket-nexus`: the client software for submitting jobs to the Quantinuum Nexus platform\n",
    "\n",
    "### Step 1. Enable access to the Quantinuum simulator and emulator\n",
    "\n",
    "We provide three systems for you to target when executing quantum circuits as part of the challenge.\n",
    "\n",
    "* `H1-1LE`: a noiseless simulator of Quantinuum's 20 qubit `H1-1` quantum computer. This system has shorter queuing times, so we recommend using it for most of the challenge.\n",
    "* `H1-1E`: a noisy 'emulator' of `H1-1`. This system is much closer to the actual `H1-1` machine, and has longer queuing times. We recommend only using this system when you need to execute your circuit on something closer to the real hardware.\n",
    "* `H1-1SC`: a 'syntax checker' system for optionally testing things out (it won't run any code but can be used for validation of your usage of the API). \n",
    "\n",
    "\n",
    "### Step 2: Try out the example code below to compile and simulate your first circuit.\n",
    "\n",
    "- Copy this file or its contents into the Quantinuum Nexus hub and run the code below to see some example usage.\n"
   ]
  },
  {
   "cell_type": "markdown",
   "id": "8568469f",
   "metadata": {},
   "source": [
    "## Lets compose a quantum circuit using Pytket\n",
    "\n",
    "Nexus uses [pytket Circuits](https://cqcl.github.io/pytket/manual/manual_circuit.html). Here we'll create a simple one."
   ]
  },
  {
   "cell_type": "code",
   "execution_count": null,
   "id": "fa8e85be",
   "metadata": {},
   "outputs": [],
   "source": [
    "from pytket import Circuit\n",
    "from pytket.circuit.display import render_circuit_jupyter\n",
    "\n",
    "my_circuit = Circuit(4,4).H(0).CX(0, 1).H(1).CX(1,2).H(3).CX(2,3)\n",
    "my_circuit.measure_all()\n",
    "\n",
    "my_circuit.name = \"my-first-circuit\"\n",
    "\n",
    "render_circuit_jupyter(my_circuit)"
   ]
  },
  {
   "cell_type": "markdown",
   "id": "announced-viewer",
   "metadata": {},
   "source": [
    "### Create a Nexus Project\n",
    "\n",
    "A project is a way to compartmentalize your running jobs and data, allowing you to retrieve and share data easily."
   ]
  },
  {
   "cell_type": "code",
   "execution_count": null,
   "id": "cdf45ead",
   "metadata": {},
   "outputs": [],
   "source": [
    "from pytket.extensions.nexus import Nexus\n",
    "from datetime import datetime\n",
    "\n",
    "nexus = Nexus()\n",
    "my_project = nexus.new_project(name=f\"Nexus Spring 2024 Workshop Tutorial - {datetime.now()}\")"
   ]
  },
  {
   "cell_type": "markdown",
   "id": "f8e81f3e",
   "metadata": {},
   "source": [
    "You should be able to see this project if you visit [https://nexus.quantinuum.com/projects/all](https://nexus.quantinuum.com/projects/all)"
   ]
  },
  {
   "attachments": {},
   "cell_type": "markdown",
   "id": "15a83542",
   "metadata": {},
   "source": [
    "### Set up your Backend Configuration\n",
    "\n",
    "In Quantinuum Nexus, we use `BackendConfig`s to specify the details of the quantum system we want to target.\n",
    "\n",
    "\n",
    "For this example, we'll use ``QuantinuumConfig``, to configure Nexus to target a simulator for Quantinuum's `H1-1LE` device. \n"
   ]
  },
  {
   "cell_type": "code",
   "execution_count": null,
   "id": "abc8440f",
   "metadata": {},
   "outputs": [],
   "source": [
    "from pytket.extensions.nexus import QuantinuumConfig\n",
    "\n",
    "configuration = QuantinuumConfig(device_name=\"H1-1LE\")"
   ]
  },
  {
   "cell_type": "markdown",
   "id": "d5c75fa3",
   "metadata": {},
   "source": [
    "## Set up a NexusBackend\n",
    "\n",
    "The `Backend` object presents an interface to run jobs on Nexus."
   ]
  },
  {
   "cell_type": "code",
   "execution_count": null,
   "id": "815773d9",
   "metadata": {},
   "outputs": [],
   "source": [
    "from pytket.extensions.nexus import NexusBackend\n",
    "\n",
    "# Then we'll create a NexusBackend using our config and the project we created\n",
    "backend = NexusBackend(configuration, project=my_project)"
   ]
  },
  {
   "cell_type": "markdown",
   "id": "7d6705bb",
   "metadata": {},
   "source": [
    "### Compile the circuit\n",
    "\n",
    "Nexus offers compilation with the TKET quantum compiler. This is an easy way to:\n",
    "\n",
    "* Optimize the circuit\n",
    "* Convert it to run on a specific quantum device, which might not support all quantum gates.\n",
    "\n",
    "For the challenge you can use pytket directly to compile circuits, or you can get Nexus to do the compilation for you. If you'd like to disable any changes to your circuit other than making sure that the gateset is correct, you can always set `optimisation_level=0`."
   ]
  },
  {
   "cell_type": "code",
   "execution_count": null,
   "id": "2e954153",
   "metadata": {},
   "outputs": [],
   "source": [
    "# Compile the circuit in Nexus\n",
    "compiled_circuit = backend.get_compiled_circuit(my_circuit, optimisation_level=2)"
   ]
  },
  {
   "cell_type": "markdown",
   "id": "eedb2e5f",
   "metadata": {},
   "source": [
    "You should now see the `Compile Job` show up when you click on your project on [https://nexus.quantinuum.com/projects/all](https://nexus.quantinuum.com/projects/all).\n",
    "\n",
    "If you're curious to see what the compiler did, you can click on the job results and see all the passes the compiler performed on your circuit. "
   ]
  },
  {
   "cell_type": "markdown",
   "id": "5216cf39",
   "metadata": {},
   "source": [
    "### Submit the circuit for execution\n",
    "\n",
    "Nexus will take care of submitting the circuit to your chosen device and storing the results when it has executed.\n",
    "\n",
    "In this case we are executing the circuit on a simulator running in the Nexus cluster so we should get the results back quickly, however many quantum devices have lengthy queues in which case Nexus will track the job and retrieve the results when they are ready."
   ]
  },
  {
   "cell_type": "code",
   "execution_count": null,
   "id": "opened-hobby",
   "metadata": {},
   "outputs": [],
   "source": [
    "# Run the compiled circuit for 10 shots\n",
    "handle = backend.process_circuit(compiled_circuit, n_shots=10)\n",
    "\n",
    "\n",
    "# This will give you a ResultHandle\n",
    "# As with other pytket-backends, a ResultHandle identifies a particular run of the circuit, which you can then use to keep track of the job status.\n",
    "print(handle)"
   ]
  },
  {
   "cell_type": "code",
   "execution_count": null,
   "id": "overhead-thirty",
   "metadata": {},
   "outputs": [],
   "source": [
    "# Get an update on the status\n",
    "backend.circuit_status(handle)"
   ]
  },
  {
   "cell_type": "code",
   "execution_count": null,
   "id": "39a75fbd",
   "metadata": {},
   "outputs": [],
   "source": [
    "# If the job is COMPLETED we can then retrieve the result with the handle\n",
    "result = backend.get_result(handle)\n",
    "\n",
    "\n",
    "result.get_distribution()"
   ]
  },
  {
   "cell_type": "markdown",
   "id": "ce945166",
   "metadata": {},
   "source": [
    "You can also view the job from the project page on the Quantinuum Nexus website and check out the results there."
   ]
  },
  {
   "cell_type": "markdown",
   "id": "eecbd4b8",
   "metadata": {},
   "source": [
    "<div align=\"center\"> &copy; 2024 by Quantinuum. All Rights Reserved. </div>"
   ]
  }
 ],
 "metadata": {
  "kernelspec": {
   "display_name": "pytket-nexus-f6eBn_pg-py3.10",
   "language": "python",
   "name": "python3"
  },
  "language_info": {
   "codemirror_mode": {
    "name": "ipython",
    "version": 3
   },
   "file_extension": ".py",
   "mimetype": "text/x-python",
   "name": "python",
   "nbconvert_exporter": "python",
   "pygments_lexer": "ipython3",
   "version": "3.10.6"
  },
  "vscode": {
   "interpreter": {
    "hash": "f43baf218a87c34b36d0e78bf5bbda01518be954b242b9492c4c47b42fef4ee3"
   }
  },
  "widgets": {
   "application/vnd.jupyter.widget-state+json": {
    "state": {},
    "version_major": 2,
    "version_minor": 0
   }
  }
 },
 "nbformat": 4,
 "nbformat_minor": 5
}
